{
 "cells": [
  {
   "attachments": {},
   "cell_type": "markdown",
   "metadata": {},
   "source": [
    "<p align=center> \n",
    "  <img align=center height=350 width=350 src=\"https://github.com/Rhappy/Cyclistic/blob/main/cyclistic_logo.png?raw=true\" alt=\"cyclistic\">\n",
    "</p>\n",
    "\n",
    "### <p align=center><font color=\"8bb761\"> Google Data Analytics Professional Certificate - Capstone Project\n",
    "</font> </p>\n",
    "<p align=center><font color=\"3c94a3\"> Feito com SQL em BigQuery e Tableau </font></p>\n",
    "\n",
    "## <font color=\"8bb761\">Índice</font>\n",
    "- [**1. Sobre a Companhia**](#companysummary)\n",
    "- [**2. Questões**](#ask)\n",
    "  - [2.1 Tarefa de Negócios](#businesstask)\n",
    "  - [2.2 Stakeholders](#stakeholders)\n",
    "- [**3. Preparação**](#prepare)\n",
    "  - [3.1 Dados utilizados](#dataused)\n",
    "  - [3.2 Acessibilidade e Uso de Dados](#dataaccessibility)\n",
    "  - [3.3 Resumo dos Dados](#datasummary)\n",
    "  - [3.4 Limitações dos Dados e Integridade](#datalimit)\n",
    "- [**4. Processo**](#process)\n",
    "  - [4.1 Conjuntos de Dados utilizados](#dataselected)\n",
    "  - [4.2 Usando SQL para limpeza dos dados](#cleaning)\n",
    "    - [4.2.1 Uniformização dos atributos entre tabelas](#attributes)\n",
    "    - [4.2.2 Organização das tabelas por ano](#joinbyyear)\n",
    "    - [4.2.3 Limpeza dos dados irregulares ou nulos](#corretingdata)\n",
    "- [**5. Análise e Visualização**](#analyze)\n",
    "  - [5.1 Estabelecendo padrões](#patterns)\n",
    "  - [5.2 Percepções](#perceptions)\n",
    "    - [5.2.1 Quantidade de viagens](#quantity_trips)\n",
    "    - [5.2.2 Gênero informado](#genre)\n",
    "    - [5.2.3 Ano de nascimento](#usertypes3)\n",
    "    - [5.2.4 Duração das viagens](#trip_duration)\n",
    "    - [5.2.5 Popularidade das estações](#station_pop)\n",
    "    - [5.2.6 Meses e horários populares](#trip_time)\n",
    "- [**6. Ações**](#act)\n",
    "- [**7. Conclusão**](#conclusion)\n",
    "- [**8. Bibliografia complementar**](#bibliography)\n"
   ]
  },
  {
   "cell_type": "markdown",
   "metadata": {},
   "source": [
    "### <font color=\"8bb761\">1. Sobre a Companhia</font> <a class=\"anchor\" id=\"companysummary\"></a>\n",
    "<p> Cyclistic é uma empresa norte-americana, situada na cidade de Chicago, Illinois, com fundação em 2016, focada em compartilhamento de bicicletas. A empresa possui 5.824 bicicletas distribuídas em uma rede de 692 estações, pontos que permitem o desbloqueio de uma bicicleta em um local e a devolução em outro. </p>\n",
    "<p> Há oferta de aluguel dos seguintes tipos de bicicletas: </p>\n",
    "\n",
    "- **Bicicletas tradicionais**: Modelo de duas rodas com o formato tradicional.\n",
    "- **Bicicletas reclináveis**: Modelo inlcusivo de duas rodas onde o banquinho é substituído por um assento com encosto levemente reclinado para trás, onde o usuário, ao sentar-se, posiciona o guidão entre as pernas e utiliza os pedais que estão à frente da roda dianteira para iniciar o movimento.\n",
    "- **Bicicleta de carga**: Modelo inclusivo de bicicleta com suporte para objetos.\n",
    "- **Triciclos manuais**: Modelo inclusivo de triciclo de assento com encosto onde o guidão de direção também possui um mecanismo giratório semelhante ao pedal tradicional, porém para ser usado com as mãos. \n",
    "\n",
    "<p>Segundo dados anteriores, cerca de 8% dos usuários utiliza os modelos alternativos à bicicleta tradicional. Também é conhecido que cerca de 30% utiliza algum dos modelos para ir trabalhar, enquanto o restante é voltado ao lazer.</p>\n",
    " "
   ]
  },
  {
   "cell_type": "markdown",
   "metadata": {},
   "source": [
    "### <font color=\"8bb761\">2. Questões</font> <a class=\"anchor\" id=\"ask\"></a>\n",
    "\n",
    "**<font size=4><font color=\"8bb761\">2.1</font> Tarefa de Negócios</font>** <a class=\"anchor\" id=\"businesstask\"></a>\n",
    "<p>A companhia divide os clientes em dois grandes grupos, separados pelo padrão de uso e pagamento. O primeiro grupo é formado por usuários que compram passes de uso único ou diário de aluguel, também chamados de <i>casual riders</i> (pilotos casuais). O segundo grupo consiste em usuários que compram um plano de adesão anual, chamados de <i>Cyclistic members</i> (membros Cyclistic). </p>\n",
    "<p>Os analistas financeiros da Cyclistic realizaram uma análise cuja conclusão é que, apesar da flexibilidade de preços e planos atrair mais clientes, planos anuais são mais lucrativos do que passes para <i>casual riders</i>. Dessa forma, há uma expectativa de transformar os <i>casual riders</i> em assinantes do plano de utilização anual.</p>\n",
    "<p>Esta análise tem por objetivo esclarecer as diferenças de utilização entre <i>Casual Riders</i> e <i>Cyclistic Members</i> e, a partir disso, propor sugestões de como contemplar as necessidades dos usuários para que haja uma migração dos planos casuais para o anual.</p>\n",
    "\n",
    "**<font size=4><font color=\"8bb761\">2.2</font> Stakeholders</font>** <a class=\"anchor\" id=\"stakeholders\"></a>\n",
    "\n",
    "- **Equipe executiva**: equipe responsável pela aprovação das recomendações dos analistas.\n",
    "- **Equipe de Análise de Marketing**: equipe responsável pela coleta e análise dos dados obtidos de clientes. \n",
    "- **Lily Moreno**: diretora de Marketing da Cyclistic, responsável pelas campanhas e iniciativas publicitárias, e pela sugestão de transformar usuários casuais em membros do plano anual. "
   ]
  },
  {
   "attachments": {},
   "cell_type": "markdown",
   "metadata": {},
   "source": [
    "## <font color=\"8bb761\">3. Preparação</font> <a class=\"anchor\" id=\"prepare\"></a>\n",
    "\n",
    "**<font size=4><font color=\"8bb761\">3.1</font> Dados Utilizados</font>** <a class=\"anchor\" id=\"dataused\"></a>\n",
    "<p>Os dados utilizados nessa análise foram fornecidos pela empresa Divvy (Lyft Bikes and Scooters, LLC “Bikeshare”) que atua no mesmo segmento e região que a fictícia Cyclistic. Tais dados são propriedade de cidade de Chicago nos Estados Unidos através de uma iniciativa para inclusão de transportes alternativos na cidade.</p>\n",
    "\n",
    "**<font size=4><font color=\"8bb761\">3.2</font> Acessibilidade e Uso dos Dados</font>** <a class=\"anchor\" id=\"dataaccessibility\"></a>\n",
    "<p>Esse conjunto de dados é registrado sobre uma licensa que possibilita de forma não exclusiva, <i>royalty-free</i> e ilimtada o acesso perpétuo para acessar, reproduzir, analisar, copiar, modificar e distribuir no seu produto ou serviço. O uso restritivo, comercial ou ligado à atividades ilegais é proibido. Todo o acordo de uso de dados está disponível em <a href=https://ride.divvybikes.com/data-license-agreement>Divvy Bikes - Data License Agreement</a> </p>\n",
    "<p>O local onde os conjuntos de dados estão disponibilizados em <a href=\"https://divvy-tripdata.s3.amazonaws.com/index.html\"> Divvy Trip Data</a>, conjuntos que também serão adicionados anexados à publicação deste relatório. Adicionalmente, foi inserida uma planilha atualizada referente às estações no link <a href=\"https://data.cityofchicago.org/Transportation/Divvy-Bicycle-Stations/bbyy-e7gq\"> da prefeitura de Chicago</a>, pois as informações de estações disponibilizadas pelo projeto não seriam suficientes para a análise adequada.</p>\n",
    "<p>Adicionalmente aos conteúdos disponibilizados para a análise, há uma <a href=\"https://account.divvybikes.com/map\">ferramenta digital de acesso aberto</a> que permite acompanhar em tempo real a situação das estações, contando com a quantidade de bicicletas disponíveis. Tal ferramenta não foi utilizada para nenhuma etapa de análise, contudo, fica registrada para conhecimento do serviço ofertado pela empresa Divvy em conjunto com a prefeitura de Chicago. </p>\n",
    "\n",
    "**<font size=4><font color=\"8bb761\">3.3</font> Resumo dos dados</font>**  <a class=\"anchor\" id=\"datasummary\"></a>\n",
    "<p>De acordo com o disponibilizado no link presente no subtópico anterior, foram fornecidos 49 pastas compactas onde continham 69 arquivos .cvs e 1 arquivo .xlsx, com dados do período de junho de 2013 até setembro de 2022.</p>\n",
    "\n",
    "##### <font color=\"3c94a3\">Trip Data</font>\n",
    "<p>Informações sobre às viagens referentes ao período de 2013 à 2022.</p>\n",
    "\n",
    "|<font color=\"8bb761\"> Atributos </font> | <font color=\"8bb761\">Tipo de dado</font> | <font color=\"8bb761\">Descrição</font> | <font color=\"8bb761\">Observação</font> |\n",
    "| --- | --- | --- | --- |\n",
    "| <font color=\"3c94a3\">trip_id</font> | STRING | ID correspondente à viagem | Também referido como <i>_01___Rental_Details_Rental_ID</i> (2018 e 2019) e <i>ride_id</i> (2020 à 2022). |\n",
    "| <font color=\"3c94a3\">start_time</font> | DATETIME | Data e hora do início da viagem | Também referido como <i>starttime</i> (2013 à 2016) , <i>_01___Rental_Details_Local_Start_Time</i>(2018 e 2019) e <i>started_at</i> (2020 à 2022). |\n",
    "| <font color=\"3c94a3\">end_time</font> |  DATETIME |  Data e hora do encerramento da viagem | Também referido como <i>stoptime</i> (2013 à 2016), <i>_01___Rental_Details_Local_End_Time</i> (2018 e 2019) e <i>ended_at</i> (2020 à 2022). |\n",
    "| <font color=\"3c94a3\">start_station_id</font> | STRING |  ID da estação de partida do equipamento alugado | Também referido como <i>from_station_id</i> (2013 à 2017, 2019) e <i>_03___Rental_Start_Station_ID</i> (2018 e 2019). |\n",
    "| <font color=\"3c94a3\">start_station_name</font> | STRING |  Nome da estação de partida do equipamento alugado | Também referido como <i>from_station_name</i> (2013 à 2017, 2019) e <i>_03___Rental_Start_Station_Name</i> (2018 e 2019). |\n",
    "|<font color=\"3c94a3\"> end_station_id</font> |  STRING |  ID da estação de devolução do equipamento alugado | Também referido como <i>to_station_id</i> (2013 à 2017, 2019) e <i>_02___Rental_End_Station_ID</i> (2018 e 2019). |\n",
    "| <font color=\"3c94a3\">end_station_name</font> |  STRING |  Nome da estação de devolução do equipamento alugado | Também referido como <i>to_station_name</i> (2013 à 2017, 2019) e <i>_02___Rental_End_Station_Name</i> (2018 e 2019). |\n",
    "| <font color=\"3c94a3\">user_type</font> |  STRING |  Descreve se o usuário é <i>Casual Rider</i> ou <i> Cyclistic Member</i> | Também referido como <i>usertype</i> (2013 à 2017, 2019) e <i>member_casual</i>(2020 à 2022). |\n",
    "| <font color=\"3c94a3\">gender</font> |  STRING |  Sexo declarado do usuário | Também referido como <i>Member_Gender</i> (2018), atributo não utilizado de 2020 à 2022. Campo de preenchimento exclusivo para <i>Cyclistic Members</i>. |\n",
    "| <font color=\"3c94a3\">birth_year</font> | INTEGER |  Ano de nascimento do usuário | Também referido como <i>_05___Member_Details_Member_Birthday_Year</i> (2018 e 2019), atributo não utilizado de 2020 à 2022. Campo de preenchimento exclusivo para <i>Cyclistic Members</i>. |\n",
    "| <font color=\"3c94a3\">bike_id</font> |  STRING |  ID correspondente ao equipamento alugado | Também referido como <i>bikeid</i> (2013 à 2017, 2019) e como <i>_01___Rental_Details_Bike_ID</i> (2018 e 2019). Atributo não utilizado de 2020 à 2022. |\n",
    "| <font color=\"3c94a3\">trip_duration</font> |  INTEGER | Duração em segundos | Também referido como <i>tripduration</i> (2013 à 2017, 2019) e <i>_01___Rental_Details_Duration_In_Seconds_Uncapped</i> (2018 e 2019). Atributo não utilizado de 2020 à 2022. |\n",
    "| <font color=\"3c94a3\">rideable_type</font> |  STRING |  Tipo de equipamento utilizado | Atributo introduzido a partir de 2020. |\n",
    "| <font color=\"3c94a3\">start_lat</font> | FLOAT | Latitude onde encontra-se o posto de partida | Atributo introduzido a partir de 2020. |\n",
    "| <font color=\"3c94a3\">start_long</font> |  FLOAT | Longitude onde encontra-se o posto de partida | Atributo introduzido a partir de 2020. |\n",
    "| <font color=\"3c94a3\">end_lat</font> |  FLOAT | Latitude onde encontra-se o posto de devolução | Atributo introduzido a partir de 2020. |\n",
    "| <font color=\"3c94a3\">end_long</font> |  FLOAT | Longitude onde encontra-se o posto de devolução | Atributo introduzido a partir de 2020. |\n",
    "\n",
    "\n",
    "##### <font color=\"3c94a3\">Trip Stations</font>\n",
    "<p>Informações referentes às estações de aluguel e devolução de equipamentos de 2013 à 2017. Informações do período de 2018 à 2022 não disponíveis.</p>\n",
    "\n",
    "| <font color=\"8bb761\"> Atributos </font> |  <font color=\"8bb761\">Tipo de dado</font> | <font color=\"8bb761\">Descrição</font> | <font color=\"8bb761\">Observação</font> |\n",
    "| --- | --- | --- | --- |\n",
    "| <font color=\"3c94a3\">id</font> | STRING | ID da estação | - |\n",
    "| <font color=\"3c94a3\">name</font> | STRING | Nome dado à estação | Nomes das estações fazem referência às ruas que estão localizadas. |\n",
    "| <font color=\"3c94a3\">latitude</font> | FLOAT | Latitude onde encontra-se a estação | -  |\n",
    "| <font color=\"3c94a3\">longitude</font> | FLOAT | Longitude onde encontra-se a estação | - |\n",
    "| <font color=\"3c94a3\">dp_capacity</font> | INTEGER | Capacidade total da estação | - |\n",
    "| <font color=\"3c94a3\">active_since</font> |DATE | Data de início da operação da estação | Também referido como <i>dateCreated</i> (2014) e <i>online_date</i> (2013 à 2017). |\n",
    "| <font color=\"3c94a3\">city</font> | STRING | Cidade onde localiza-se a estação | Atributo introduzido apenas em 2017. |\n",
    "| <font color=\"3c94a3\">landmark</font> | STRING | Dados numéricos de função desconhecida | Atributos aparecem apenas em 2013 e 2015. Não serão utilizados devido a falta de metadados |\n",
    "| <font color=\"3c94a3\">string_field_7</font> | STRING | Atributo sem valores | Atributo adicionado no segundo semestre de 2017. Não utilizado pela falta de valores e metadados |\n",
    "\n",
    "<br>\n",
    "\n",
    "**<font size=4><font color=\"8bb761\">3.4</font> Limitação dos Dados e Integridade </font>** <a class=\"anchor\" id=\"datalimit\"></a>\n",
    "<p>Há uma grande quantidade de dados disponívies, por um longo período de tempo, que se mantém em atualização. Parte dos dados foi adicionado à base de forma trimestral enquanto dados mais recentes são adicionados mensalmente. A grande quantidade de dados possibilita que a análise consiga determinar padrões mais uniformes dos hábitos dos usuários. Contudo, a divisão dos arquivos e a falta de uniformidade no conteúdo dos atributos pode gerar análises incompletas.</p> \n",
    "\n",
    "<p>É sabido que os dados são coletados na cidade de Chicago, nos Estados Unidos, porém, faltam dados que possam encontrar um padrão demográfico específico dos usuários, ocasionado pela remoção de atributos de sexo e idade e pela ausência de metadados que descrevam o poder aquisitivo dos usuários bem como outros hábitos de consumo. Segundo o link de Data License Agreement, dados relacionados à consumo e métodos de pagamento foram removidos com base no acordo de proteção de dados.</p>\n",
    "\n",
    "<p>Em uma análise superficial dos dados, é possível indentificar que alguns atributos possuem nomes diferentes para representar os mesmos tipos de dados em tabelas diferentes. Também é possível identificar registros nulos, que serão desconsiderados em análises onde sejam necessários, e registros de formatos errados e/ou <i>typos</i> (erros claros de digitação) serão corrigidos, se possível. </p>\n",
    "\n",
    "<p>Os dados são fornecidos pela empresa <a href=\"https://ride.divvybikes.com\">Divvy Bikes</a> em conjunto com a <a href=\"https://www.chicago.gov/city/en/general/search_results.html#stq=bike&stp=1\">prefeitura da cidade de Chicago</a>, o que garante a confiabilidade e integridade da base de dados utilizada nessa análise.</p>"
   ]
  },
  {
   "cell_type": "markdown",
   "metadata": {},
   "source": [
    "## <font color=\"8bb761\">4. Processo</font> <a class=\"anchor\" id=\"process\"></a>\n",
    "\n",
    "**<font size=4><font color=\"8bb761\">4.1</font> Conjuntos de Dados Utilizados</font>** <a class=\"anchor\" id=\"dataselected\"></a>\n",
    "<p> Todos as entidades fornecidas no banco de dados foram utilizados na análise. </p>\n",
    "\n",
    "**<font size=4><font color=\"8bb761\">4.2</font> Utilização de SQL (BigQuery) para Limpeza dos Dados</font>** <a class=\"anchor\" id=\"cleaning\"></a>\n",
    "<p>Para a limpeza e análise dos arquivos, foi utilizada a ferramenta BigQuery, propriedade da <a href=\"https://console.cloud.google.com/bigquery\">Google Cloud Platform</a>.\n",
    "\n",
    "**<font size=3><font color=\"8bb761\">4.2.1</font> Uniformização dos Atributos entre Tabelas </font>** <a class=\"anchor\" id=\"attributes\"></a>\n",
    "<p>Devido à variedade de nomes de colunas, o primeiro passo foi a renomeação de algumas colunas em certas tabelas para que ficassem mais claras e uniformes. Os nomes utilizados após a alteração são os mesmos destacados na coluna <i>Atributos</i> das tabelas do item 3.3. Resumo de Dados, com supressão de termos apresentados no campo de <i>Observação</i>.</p>\n",
    "\n",
    "<p>Acompanhando este relatório, há um arquivo denominado <i>Cyclist_initial_data.zip</i> com todos os arquivos originais da base de dados. À parte, há um arquivo chamado <i>renaming_droping_process.sql</i> com o processo detalhado de renomeação das colunas.</p>\n"
   ]
  },
  {
   "cell_type": "code",
   "execution_count": null,
   "metadata": {
    "vscode": {
     "languageId": "sql"
    }
   },
   "outputs": [],
   "source": [
    "/* Alterações de atributos realizadas na tabela referente ao ano de 2013, feitas também nas outras tabelas conforme necessidade e de acordo com o padrão estabelecido. */\n",
    "\n",
    "ALTER TABLE\n",
    "  `Cyclistic.Divvy_Trips_2013` \n",
    "RENAME COLUMN\n",
    "  starttime to start_time,\n",
    "RENAME COLUMN\n",
    "  stoptime to end_time,\n",
    "RENAME COLUMN\n",
    "  bikeid to bike_id,\n",
    "RENAME COLUMN\n",
    "  tripduration to trip_duration,\n",
    "RENAME COLUMN\n",
    "  from_station_id to start_station_id,\n",
    "RENAME COLUMN\n",
    "  from_station_name to start_station_name,\n",
    "RENAME COLUMN\n",
    "  to_station_id to end_station_id,\n",
    "RENAME COLUMN\n",
    "  to_station_name to end_station_name,\n",
    "RENAME COLUMN\n",
    "  usertype to user_type,\n",
    "RENAME COLUMN\n",
    "  birthday to birth_year;"
   ]
  },
  {
   "cell_type": "code",
   "execution_count": null,
   "metadata": {
    "vscode": {
     "languageId": "sql"
    }
   },
   "outputs": [],
   "source": [
    "/* Remoção de colunas sem metadados explicativos ou preenchida com dados nulos.*/\n",
    "ALTER TABLE\n",
    "  `Cyclistic.Divvy_Stations_2013`\n",
    "DROP COLUMN\n",
    "  landmark;\n",
    "\n",
    "ALTER TABLE \n",
    "  `Cyclistic.Divvy_Stations_2017_Q3Q4`\n",
    "DROP COLUMN\n",
    "  string_field_7;"
   ]
  },
  {
   "cell_type": "markdown",
   "metadata": {},
   "source": [
    "**<font size=3><font color=\"8bb761\">4.2.2</font> Organizando Tabelas por Ano </font>** <a class=\"anchor\" id=\"joinbyyear\"></a>\n",
    "<p>Como as tabelas foram adicionadas sem um padrão bem definido, divididas em meses, trimestres ou anos inteiros, foi realizada a junção das tabelas por ano para auxiliar no processo de reconhecimento dos dados e de análise.</p>\n",
    "\n",
    "<p>Na junção das tabelas referentes à viagens de 2020 e estações de 2014 e 2017, foi necessária utilização da função CAST para equalização dos tipos de dados entre tabelas. O processo detalhado de junção de todas as tabelas está descrito no arquivo <i>uniting_tables</i>, que acompanha esse projeto.</p>"
   ]
  },
  {
   "cell_type": "code",
   "execution_count": null,
   "metadata": {
    "vscode": {
     "languageId": "sql"
    }
   },
   "outputs": [],
   "source": [
    "/* Junção de entidades por ano em que os dados foram coletados */\n",
    "/* A ordem dar colunas foi verificada antes da utilização do '*'. */\n",
    "SELECT \n",
    "  a.trip_id,\n",
    "  a.user_type,\n",
    "  a.rideable_type,\n",
    "  CAST(a.start_time as DATETIME) as start_time,\n",
    "  CAST(a.end_time as DATETIME) as end_time,\n",
    "  CAST(a.start_station_id AS STRING) as start_station_id,\n",
    "  a.start_station_name,\n",
    "  CAST(a.end_station_id AS STRING) as end_station_id,\n",
    "  a.end_station_name,\n",
    "  a.start_lat,\n",
    "  a.start_long,\n",
    "  a.end_lat,\n",
    "  a.end_long\n",
    "FROM\n",
    "  `cyclistic.202101-divvy-tripdata` as a\n",
    "\n",
    "UNION ALL\n",
    "\n",
    "SELECT \n",
    "  b.trip_id,\n",
    "  b.user_type,\n",
    "  b.rideable_type,\n",
    "  CAST(b.start_time as DATETIME) as start_time,\n",
    "  CAST(b.end_time as DATETIME) as end_time,\n",
    "  CAST(b.start_station_id AS STRING) as start_station_id,\n",
    "  b.start_station_name,\n",
    "  CAST(b.end_station_id AS STRING) as end_station_id,\n",
    "  b.end_station_name,\n",
    "  b.start_lat,\n",
    "  b.start_long,\n",
    "  b.end_lat,\n",
    "  b.end_long\n",
    "FROM\n",
    "  `cyclistic.202102-divvy-tripdata` as b\n",
    "\n",
    ".\n",
    ".\n",
    "."
   ]
  },
  {
   "cell_type": "code",
   "execution_count": null,
   "metadata": {
    "vscode": {
     "languageId": "sql"
    }
   },
   "outputs": [],
   "source": [
    "/* Junção de entidades por ano em que os dados foram coletados */\n",
    "SELECT\n",
    "  a.id,\n",
    "  a.name,\n",
    "  a.latitude,\n",
    "  a.longitude,\n",
    "  a.dp_capacity,\n",
    "  a.active_since\n",
    "FROM\n",
    "  `Cyclistic.Divvy_Stations_2014-Q1Q2` as a\n",
    "\n",
    "UNION ALL\n",
    "\n",
    "SELECT\n",
    "  b.id,\n",
    "  b.name,\n",
    "  b.latitude,\n",
    "  b.longitude,\n",
    "  b.dp_capacity,\n",
    "  CAST(b.active_since AS DATE) as date\n",
    "FROM\n",
    "  `Cyclistic.Divvy_Stations_2014-Q3Q4` as b;"
   ]
  },
  {
   "cell_type": "markdown",
   "metadata": {},
   "source": [
    "<p> A junção das tabelas resultou em 16 datasets:</p>\n",
    "\n",
    "| <font color=\"8bb761\"> Nome </font> | <font color=\"8bb761\">Quantidade de linhas</font> |\n",
    "| --- | --- |\n",
    "| <font color=\"3c94a3\">cyclistic_stations_2013</font> | 300 |\n",
    "| <font color=\"3c94a3\">cyclistic_stations_2014</font> | 600 |\n",
    "| <font color=\"3c94a3\">cyclistic_stations_2015</font> | 474 |\n",
    "| <font color=\"3c94a3\">cyclistic_stations_2016</font> | 1697 |\n",
    "| <font color=\"3c94a3\">cyclistic_stations_2017</font> | 1167 |\n",
    "| <font color=\"3c94a3\">cyclistic_stations</font> | 4238 |\n",
    "| <font color=\"3c94a3\">cyclistic_trips_2013</font> | 759788 |\n",
    "| <font color=\"3c94a3\">cyclistic_trips_2014</font> | 2454634 |\n",
    "| <font color=\"3c94a3\">cyclistic_trips_2015</font> | 3183439 |\n",
    "| <font color=\"3c94a3\">cyclistic_trips_2016</font> | 3595383 |\n",
    "| <font color=\"3c94a3\">cyclistic_trips_2017</font> | 3829014 |\n",
    "| <font color=\"3c94a3\">cyclistic_trips_2018</font> | 3603082 |\n",
    "| <font color=\"3c94a3\">cyclistic_trips_2019</font> | 3818004 |\n",
    "| <font color=\"3c94a3\">cyclistic_trips_2020</font> | 3541683 |\n",
    "| <font color=\"3c94a3\">cyclistic_trips_2021</font> | 5595063 |\n",
    "| <font color=\"3c94a3\">cyclistic_trips_2022</font> | 4589491 |"
   ]
  },
  {
   "cell_type": "markdown",
   "metadata": {
    "vscode": {
     "languageId": "sql"
    }
   },
   "source": [
    "**<font size=3><font color=\"8bb761\">4.2.3</font> Limpeza dos dados irregulares ou nulos </font>** <a class=\"anchor\" id=\"correctingdata\"></a>\n",
    "<p>Inicialmente, buscou-se inconsitências das nomenclaturas entre os dados representados nas colunas de mesmo nome em tabelas diferentes, ou dados não esperados. Todas as alterações realizadas nessa etapa estarão com o projeto no arquivo <i>cleaning_process.sql</i> , divididas por tabela.</p>\n",
    "\n",
    "<p>A primeira inconsistência foi identificada ao buscar quais os tipos de entradas e a ocorrência destas nas colunas <i>user_type</i>. Em 2013 e 2014, os usuários eram nomeados em 'Subscriber' e 'Customer', valores corrigidos, respectivamente, para <i>casual</i> e <i>member</i> de acordo com a nomenclatura utilizada pelos analistas financeiros e presente de 2020 à 2022.</p>\n",
    "\n",
    "<p>De 2015 à 2017, observa-se a ocorrência em baixa quantidade do termo <i>'Dependent'</i> (menos de 0,01%), que não possui explicações sobre o perfil destes clientes e não foi considerado inicialmente para a análise. Este termo também será desconsiderado ao longo da análise</p>"
   ]
  },
  {
   "cell_type": "code",
   "execution_count": null,
   "metadata": {
    "vscode": {
     "languageId": "sql"
    }
   },
   "outputs": [],
   "source": [
    "/* Conferência dos termos que ocorrem em colunas específicas em busca de termos que fogem do esperado */ \n",
    "SELECT\n",
    "  COUNT(*) as total,\n",
    "  user_type\n",
    "FROM\n",
    "  Cyclistic.cyclistic_trips_2013\n",
    "GROUP BY\n",
    "  user_type;\n",
    "\n",
    "SELECT\n",
    "  trip_id,\n",
    "  start_time,\n",
    "  end_time,\n",
    "  bike_id,\n",
    "  trip_duration,\n",
    "  start_station_id,\n",
    "  start_station_name,\n",
    "  end_station_id,\n",
    "  end_station_name,\n",
    "  CASE \n",
    "    WHEN user_type = 'Subscriber' THEN 'member'\n",
    "    WHEN user_type = 'Customer' THEN 'casual'\n",
    "    ELSE NULL\n",
    "  END as user_type,\n",
    "  LOWER(gender) as gender,\n",
    "  birth_year\n",
    "FROM\n",
    "  `Cyclistic.cyclistic_trips_2013`;"
   ]
  },
  {
   "cell_type": "markdown",
   "metadata": {},
   "source": [
    "<p> No dataset <i>cyclistic_station</i> resultado da junção das planilhas das estações, foi realizada a conferência de que os IDs utilizados para cada estação eram únicos. Após atestado que haviam IDs com mais de um nome e coordenadas, foi realizada a criação de 46 IDs novas para que a análise não fosse prejudicada, corrigindo posteriormente as planilhas referentes à viagens. Também foram corrigidos possíveis erros de grafia na nomenclatura das estações, nomeadas de acordo com as ruas onde são instaladas. Essa segunda conferência e correção foram possíveis graças à disponibilidade das coordenadas. </p>\n",
    "\n",
    "<p> A alteração das IDs foi feita exclusivamente para esta análise, não interferindo no banco de dados como um todo, baseando-se nos padrões numéricos encontrados nos datasets produzidos até 2017. No dataset sobre estações atualizado, encontrado fora do link sugerido para o projeto, observa-se utilização de padrões alfanuméricos únicos.</p>"
   ]
  },
  {
   "cell_type": "code",
   "execution_count": null,
   "metadata": {
    "vscode": {
     "languageId": "sql"
    }
   },
   "outputs": [],
   "source": [
    "/* Conferência dos ids e nomes referentes às estações */\n",
    "SELECT \n",
    "  DISTINCT name,\n",
    "  id\n",
    "FROM \n",
    "    `Cyclistic.cyclistic_stations`\n",
    "ORDER BY\n",
    "  id ASC;\n",
    "\n",
    "/* Criação de ID novo */\n",
    "UPDATE\n",
    "  Cyclistic.cyclistic_stations\n",
    "SET\n",
    "  id = '20000'\n",
    "WHERE\n",
    "  name = 'Sheffield Ave & Waveland Ave';\n",
    "\n",
    "/* Correção de nome incorreto */\n",
    "UPDATE\n",
    "  Cyclistic.cyclistic_stations\n",
    "SET\n",
    "  name = 'Cornell Ave & Hyde Park Blvd'\n",
    "WHERE\n",
    "  id = '417';"
   ]
  },
  {
   "cell_type": "code",
   "execution_count": null,
   "metadata": {
    "vscode": {
     "languageId": "sql"
    }
   },
   "outputs": [],
   "source": [
    "/* Conferência e correção dos ids dos datasets de cyclistic_trips de acordo com os nomes registrados no dataset cyclist_stations */ \n",
    "  SELECT \n",
    "  DISTINCT a.start_station_name,\n",
    "  a.start_station_id,\n",
    "  b.name,\n",
    "  b.id\n",
    "FROM\n",
    "  `Cyclistic.cyclistic_trips_2013` as a \n",
    "  FULL JOIN `Cyclistic.stations` as b \n",
    "  ON a.start_station_name = b.name\n",
    "WHERE\n",
    " a.start_station_id != b.id\n",
    "ORDER BY\n",
    "  b.id ASC;\n",
    "\n",
    "UPDATE\n",
    "  `Cyclistic.cyclistic_trips_2013`\n",
    "SET\n",
    "  start_station_id = '20001'\n",
    "WHERE\n",
    "  start_station_name = 'State St & Erie St';\n",
    "\n",
    "UPDATE\n",
    "  `Cyclistic.cyclistic_trips_2013`\n",
    "SET\n",
    "  end_station_id = '20001'\n",
    "WHERE\n",
    "  end_station_name = 'State St & Erie St';"
   ]
  },
  {
   "attachments": {},
   "cell_type": "markdown",
   "metadata": {},
   "source": [
    "## <font color=\"8bb761\"> 5. Análise e Visualização</font> <a class=\"anchor\" id=\"analyze\"></a>\n",
    "\n",
    "**<font size=4><font color=\"8bb761\">5.1</font> Estabelecendo padrões </font>** <a class=\"anchor\" id=\"patterns\"></a>\n",
    "<p><strong>Quantidade de viagens</strong>: a quantidade das viagens realizadas pelos usuários (member ou casual) é medida através da contagem de ocorrências não nulas na coluna <i>trip_id</i>.</p>\n",
    "\n",
    "<p><strong>Gênero informado:</strong> o gênero do usuário é informado apenas no caso de <i>Cyclistic members</i>, notando-se baixíssima ocorrência de membros que decidiram por não compartilhar essa informação, não prejudicando a análise. Dado registrado de 2013 a 2018, não sendo disponibilizado a partir de 2019 para análise.</p>\n",
    "\n",
    "<p><strong>Ano de nascimento:</strong> a opção para informar o ano de nascimento está presente tanto para <i>Cyclistic Members</i> quanto para <i>Casual Riders</i>, contudo, exprime quantidades inespressivas na parcela de não membros, não sendo efetiva para análise comparativa de perfil dos usuários. Dado registrado de 2013 a 2018, não sendo disponibilizado a partir de 2019 para análise.</p>\n",
    "\n",
    "<p><strong>Duração das viagens</strong>: a duração das viagens é medida através da diferença entre horário inicial e final, informados nos datasets de todos os anos, relacionados com o a modalidade de utilização do usuário (member ou casual).</p>\n",
    "\n",
    "<p><strong>Popularidade das estações</strong>: a popularidade das estações foi contabilizada através de sua ocorrência em viagens, seja no início ou no fim do trajeto, utilizando as colunas referentes à <i>start_station_id</i> e <i>end_station_id</i>, excetuando registros nulos e estações de manutenção de bicicletas.</p>\n",
    "\n",
    "<p><strong>Meses e horários populares</strong>: meses e horários populares analisados por tipo de usuário (member ou casual) através de contagens possibilitadas pela extração da hora, mês e ano da coluna <i>start_time</i>.</p>\n",
    "\n",
    "<p>O conteúdo completo das queries para a preparação de análises será fornecido junto ao relatorio, em um arquivo chamado analysis.sql</p>"
   ]
  },
  {
   "attachments": {},
   "cell_type": "markdown",
   "metadata": {},
   "source": [
    "**<font size=4><font color=\"8bb761\">5.2</font> Percepções </font>** <a class=\"anchor\" id=\"patterns\"></a>"
   ]
  },
  {
   "attachments": {},
   "cell_type": "markdown",
   "metadata": {
    "tags": []
   },
   "source": [
    "**<font size=3><font color=\"8bb761\">5.2.1</font> Quantidade de viagens </font>** <a class=\"anchor\" id=\"quantity_trips\"></a>\n",
    "<p align=center> \n",
    "  <img align=center src=\"https://github.com/Rhappy/Cyclistic/blob/main/imgs_pt/6.%20Quantidade%20de%20viagens%20por%20ano%20por%20tipo%20de%20usu%C3%A1rio.png?raw=true\" alt=\"quantity_trips\">\n",
    "</p>"
   ]
  },
  {
   "attachments": {},
   "cell_type": "markdown",
   "metadata": {},
   "source": [
    "<p>Na análise acima, nota-se que a quantidade de usuários membros é superior ao uso casual, registrando um aumento significativo nos anos de 2019 à 2021. Não há dados complementares aos arquivos que sugiram um efeito de correlação ou causalidade. Buscando um possível contexto para tal aumento, pode-se sugerir mudanças comportamentais na população buscando um estilo de vida mais saudável no início de 2019 através de camapanhas de conscientização sobre saúde e meio ambiente. </p>\n",
    "<p>A partir de 2020, o crescimento em ambas categorias permanece, podendo ser contextualizado com a pandemia de COVID-19. É sabido que o Governo de Illinois, onde se encontra a cidade de Chicago, inicou fortes campanhas para evitar aglomerações, não permitindo que restaurantes servissem presencialmente. Dessa forma, como o serviço apresenta uma tarifa fixa até 45 minutos de uso, as bicicletas seriam utilizadas por entregadores para <i>delivery</i>. </p>\n",
    "<p>Outra parcela do crescimento pode também ter ocorrido devido à fuga dos transportes públicos usuais como ônibus e metrô por serem considerados ambientes potencialmente infectados. Assim, cidadãos recorreriam às bicicletas em busca de um meio de transporte alternativo, à céu aberto e com menos chances de contaminação para irem trabalhar, irem às compras ou fazerem passeios.</p>\n",
    "<p>O evidente descréscimo de usuários, principalmente casuais, no curso de 2021 e 2022 também pode ser contextualizado com uma redução nas restrições referentes à COVID-19, com os hábitos populacionais retornando aos padrões anteriores à pandemia.</p>"
   ]
  },
  {
   "cell_type": "code",
   "execution_count": null,
   "metadata": {
    "vscode": {
     "languageId": "sql"
    }
   },
   "outputs": [],
   "source": [
    "/* Contagem de quantidade de viagens por ano por tipo de usuário */\n",
    " \n",
    "SELECT \n",
    "  COUNT(*) as total_trips,\n",
    "  year,\n",
    "  user_type\n",
    "FROM \n",
    "  `Cyclistic.cyclistic_trips_and_stations`\n",
    "WHERE \n",
    "  user_type = 'member'\n",
    "GROUP BY \n",
    "  year, user_type\n",
    "  \n",
    "UNION ALL\n",
    "\n",
    "SELECT \n",
    "  COUNT(*) as total_trips,\n",
    "  year,\n",
    "  user_type\n",
    "FROM \n",
    "  `Cyclistic.cyclistic_trips_and_stations`\n",
    "WHERE \n",
    "  user_type = 'casual'\n",
    "GROUP BY \n",
    "  year, user_type\n",
    "\n",
    "ORDER BY\n",
    "  year ASC;"
   ]
  },
  {
   "attachments": {},
   "cell_type": "markdown",
   "metadata": {},
   "source": [
    "**<font size=3><font color=\"8bb761\">5.2.2</font> Gênero informado </font>** <a class=\"anchor\" id=\"genre\"></a>\n",
    "<p align=center> \n",
    "  <img align=center src=\"https://github.com/Rhappy/Cyclistic/blob/main/imgs_pt/1.%20Cyclistic%20members%20por%20g%C3%AAnero%20ao%20longo%20dos%20anos.png?raw=true\" alt=\"genre\">\n",
    "</p>"
   ]
  },
  {
   "attachments": {},
   "cell_type": "markdown",
   "metadata": {},
   "source": [
    "<p>No momento do cadastro de membros, é possível informar o gênero do usuário, diferentemente do cadastro de casuais que necessita de menos informações. Dessa forma, é possível concluir que o gênero que prevalesce entre os membros é o masculino demonstrando, no último ano deste registro na base da dados, uma diferenteça 1.497.154 usuários a mais do que usuárias do gênero feminino.</p> \n",
    "<p>Contudo, apesar da diferença considerável entre o número de usuários femininos e masculinos, o gênero feminino apresenta um crescimento maior entre os anos, registrando uma média de 89,2% por ano e um total de 446% desde o início da coleta de dados, contra um crescimento anual de 71% e total de 359% do público masculino.</p>"
   ]
  },
  {
   "cell_type": "code",
   "execution_count": null,
   "metadata": {
    "vscode": {
     "languageId": "sql"
    }
   },
   "outputs": [],
   "source": [
    "/* Verificação da quantidade de cadastros por gênero */\n",
    "SELECT  \n",
    "  COUNT(user_type),\n",
    "  gender,\n",
    "  EXTRACT(YEAR from start_time) as year\n",
    "FROM\n",
    "  `Cyclistic.cyclistic_trips_2013`\n",
    "WHERE\n",
    "  user_type = 'member'\n",
    "GROUP BY\n",
    "  gender, year"
   ]
  },
  {
   "attachments": {},
   "cell_type": "markdown",
   "metadata": {},
   "source": [
    "**<font size=3><font color=\"8bb761\">5.2.3</font> Ano de nascimento </font>** <a class=\"anchor\" id=\"birth_year\"></a>\n",
    "<p align=center> \n",
    "  <img align=center src=\"https://github.com/Rhappy/Cyclistic/blob/main/imgs_pt/2.%20N%C3%BAmero%20de%20usu%C3%A1rios%20por%20ano%20de%20nascimento%20ao%20longo%20dos%20anos.png?raw=true\" alt=\"birth_year\">\n",
    "</p>"
   ]
  },
  {
   "attachments": {},
   "cell_type": "markdown",
   "metadata": {},
   "source": [
    "<p>Semelhante ao gênero, Cyclistic members também informam o ano de nascimento no momento do cadastro, item não exigido no cadastro de usuários casuais. De acordo com os dados, a maioria dos membros nasceu no período de 1980 à 1995, atingindo o pico de usuários nascidos em 1989. Desta forma, no momento em que essa análise é feita (2022), a faixa etária dos usuários é predominantemente entre os 27 e 42 anos, com a maioria dos usuários possuindo 33 anos.</p>"
   ]
  },
  {
   "cell_type": "code",
   "execution_count": null,
   "metadata": {
    "vscode": {
     "languageId": "sql"
    }
   },
   "outputs": [],
   "source": [
    "/* Verificação de padrões na idade dos usuários */\n",
    "SELECT  \n",
    "  COUNT(*) as count_birth_year,\n",
    "  birth_year,\n",
    "  EXTRACT(YEAR from CURRENT_DATE) as today,\n",
    "  EXTRACT(YEAR from start_time) as year,\n",
    "FROM\n",
    "  `Cyclistic.cyclistic_trips_2013`\n",
    "WHERE\n",
    "  birth_year IS NOT NULL \n",
    "GROUP BY\n",
    "  birth_year, year, today"
   ]
  },
  {
   "attachments": {},
   "cell_type": "markdown",
   "metadata": {},
   "source": [
    "**<font size=3><font color=\"8bb761\">5.2.4</font> Duração das viagens </font>** <a class=\"anchor\" id=\"trip_duration\"></a>\n",
    "<p align=center> \n",
    "  <img align=center src=\"https://github.com/Rhappy/Cyclistic/blob/main/imgs_pt/3.%20Dura%C3%A7%C3%A3o%20m%C3%A9dia%20das%20viagens%20ao%20longo%20dos%20anos.png?raw=true\" alt=\"trip_duration\">\n",
    "</p>"
   ]
  },
  {
   "attachments": {},
   "cell_type": "markdown",
   "metadata": {},
   "source": [
    "<p>A visualização acima apresenta o tempo médio das viagens registradas num período de 9 anos, de 2013 à 2022. Sabe-se que o Cyclistic permite que usuários executem corridas de até 45 minutos com uma taxa fixa, sendo corrigida apenas após esse período. Dessa forma, viagens com tempo menor a 45 minutos são justificadas para ambos tipos de usuários.</p>\n",
    "<p>Os membros realizam viagens mais curtas, que ficaram na faixa entre 8 e 12 minutos ao longo dos anos, com tempo médio total de 9.4 minutos. Enquanto isso, usuários casuais possuem uma média de tempo de viagem maior, com uma amplitude de 19 minutos sendo o mínimo médio 10 minutos e o máximo 29 minutos. A média de tempo total para viagens casuais é de 18,4 minutos. </p>"
   ]
  },
  {
   "cell_type": "code",
   "execution_count": null,
   "metadata": {
    "vscode": {
     "languageId": "sql"
    }
   },
   "outputs": [],
   "source": [
    "/* Verificação do tempo médio das viagens de cada ano */\n",
    "SELECT \n",
    "  TIME_DIFF(end_time, start_time, MINUTE) as trip_duration,\n",
    "  year,\n",
    "  user_type\n",
    "FROM \n",
    "  `Cyclistic.cyclistic_trips`\n",
    "ORDER BY\n",
    "  year ASC, trip_duration DESC;\n",
    "\n",
    "SELECT \n",
    "  CAST(AVG(trip_duration) as INT64) as average_trip_duration,\n",
    "  year, \n",
    "  user_type\n",
    "FROM \n",
    "  `Cyclistic.cyclistic_trips`\n",
    "WHERE\n",
    "  user_type IS NOT NULL\n",
    "GROUP BY \n",
    "  year, user_type\n",
    "ORDER BY\n",
    "  year ASC;"
   ]
  },
  {
   "attachments": {},
   "cell_type": "markdown",
   "metadata": {},
   "source": [
    "**<font size=3><font color=\"8bb761\">5.2.5</font> Popularidade das estações </font>** <a class=\"anchor\" id=\"station_pop\"></a>\n",
    "<p align=center> \n",
    "  <img align=center src=\"https://github.com/Rhappy/Cyclistic/blob/main/imgs_pt/5.%20Esta%C3%A7%C3%B5es%20mais%20populares%20-%20casuals.png?raw=true\" alt=\"station_pop_casuals\">\n",
    "</p>\n",
    "<p align=center> \n",
    "  <img align=center src=\"https://github.com/Rhappy/Cyclistic/blob/main/imgs_pt/4.%20Esta%C3%A7%C3%B5es%20mais%20populares%20-%20members.png?raw=true\" alt=\"station_pop_members\">\n",
    "</p>\n"
   ]
  },
  {
   "attachments": {},
   "cell_type": "markdown",
   "metadata": {},
   "source": [
    "<p>Ao observar os mapas acima, indentifica-se um padrão e locais mais visitados por membros e usuários casuais, contando estações de início ou de final de trajeto. Em complemento com a análise de tempo médio feita anteriormente, há possível correlação entre os comportamentos dos usuários. \n",
    "Usuários casuais possuem um tempo médio de viagem mais alto e, ao analisar o mapa de estações populares, pode-se concluir que os locais próximos à parques e ao lago Michigan são favoritos. Sugere-se que os usuários casuais utilizam bicicletas Cyclistic para rotas ligadas à entretenimento e turismo.</p>\n",
    "<p>Membros, por outro lado, possuem corridas mais curtas, tendo um tempo médio mais linear e suas estações de preferência estão em locais mais próximo à região central da cidade, onde se concentram mais escritórios, mercados e estações de trabalho. Sugere-se que os membros utilizam mais biclicletas Cyclistic para tarefas rotineiras, o que faz com que uma assinatura seja mais plausível para esse público.</p>"
   ]
  },
  {
   "cell_type": "code",
   "execution_count": null,
   "metadata": {
    "vscode": {
     "languageId": "sql"
    }
   },
   "outputs": [],
   "source": [
    "/* Verificação da popularidade das estações entre membros e não membros */\n",
    "SELECT\n",
    "  a.station_name,\n",
    "  SUM(a.occurrence) as occurrence,\n",
    "  a.station_id,\n",
    "  b.latitude,\n",
    "  b.longitude,\n",
    "  a.user_type\n",
    "FROM \n",
    "  (\n",
    "  SELECT \n",
    "    c.start_station_name as station_name,\n",
    "    COUNT(c.start_station_name) as occurrence,\n",
    "    c.start_station_id as station_id,\n",
    "    c.user_type\n",
    "  FROM \n",
    "    `Cyclistic.cyclistic_trips_and_stations` as c\n",
    "  GROUP BY\n",
    "    station_name,station_id, user_type\n",
    "\n",
    "  UNION ALL\n",
    "\n",
    "  SELECT \n",
    "    d.end_station_name as station_name,\n",
    "    COUNT(d.end_station_name) as occurrence,\n",
    "    d.end_station_id as station_id,\n",
    "    d.user_type\n",
    "  FROM \n",
    "    `Cyclistic.cyclistic_trips_and_stations` as d\n",
    "  GROUP BY\n",
    "    station_name, station_id, user_type\n",
    "  ) as a\n",
    "\n",
    "  INNER JOIN `Cyclistic.cyclistic_stations` as b\n",
    "  ON a.station_id = b.id\n",
    "\n",
    "WHERE\n",
    "  a.user_type = 'member'\n",
    "GROUP BY\n",
    "  a.station_name, a.station_id, b.latitude, b.longitude, a.user_type\n",
    "ORDER BY\n",
    "  occurrence DESC\n",
    "LIMIT\n",
    "  20;\n"
   ]
  },
  {
   "attachments": {},
   "cell_type": "markdown",
   "metadata": {},
   "source": [
    "**<font size=3><font color=\"8bb761\">5.2.6</font> Meses e horários populares </font>** <a class=\"anchor\" id=\"trip_time\"></a>\n",
    "<p align=center> \n",
    "  <img align=center src=\"https://github.com/Rhappy/Cyclistic/blob/main/imgs_pt/7.%20Viagens%20por%20m%C3%AAs%20ao%20longo%20dos%20anos%20por%20tipo%20de%20usu%C3%A1rio%20-%20Members.png?raw=true\" alt=\"trip_time_month_members\">\n",
    "</p>\n",
    "<p align=center> \n",
    "  <img align=center src=\"https://github.com/Rhappy/Cyclistic/blob/main/imgs_pt/8.%20Viagens%20por%20m%C3%AAs%20ao%20longo%20dos%20anos%20por%20tipo%20de%20usu%C3%A1rio%20-%20Casuals.png?raw=true\" alt=\"trip_time_month_casuals\">\n",
    "</p>"
   ]
  },
  {
   "attachments": {},
   "cell_type": "markdown",
   "metadata": {},
   "source": [
    "<p>Acima, temos duas tabelas representando os meses de maior utilização de bicicletas Cyclistic por tipo de usuário. Possuímos 6 meses de uso intenso para ambos tipos, registrados ano a ano: de maio à outubro. Em maio, existe uma elevação de temperatura com o final da primavera e, em junho, inicía-se o verão. Julho representa o pico de calor e tempos de céu aberto durante o ano, no auge do verão que dura até o início de setembro. Com o avanço do outono e aproximação do inverno, outubro é o mês onde as temperaturas voltam à declinar, com queda expressiva no início de novembro. </p>\n",
    "<p>Considerando a sazonalidade, é possível concluir a influência da mudança de estações na utilização do serviço de bicicletas, uma vez que os períodos que antecedem e sucedem o inverno bem como ele em si podem ser bem rigorosos. </p>"
   ]
  },
  {
   "cell_type": "code",
   "execution_count": null,
   "metadata": {
    "vscode": {
     "languageId": "sql"
    }
   },
   "outputs": [],
   "source": [
    "/* Maior quantidade de viagens por mês do ano entre members e casuals */\n",
    "SELECT \n",
    "  COUNT(*) as quantity,\n",
    "  user_type,\n",
    "  month,\n",
    "  year\n",
    "FROM\n",
    "  (\n",
    "  SELECT\n",
    "    user_type,\n",
    "    CASE\n",
    "      WHEN month=01 THEN 'January'\n",
    "      WHEN month=02 THEN 'February'\n",
    "      WHEN month=03 THEN 'March'\n",
    "      WHEN month=04 THEN 'April'\n",
    "      WHEN month=05 THEN 'May'\n",
    "      WHEN month=06 THEN 'June'\n",
    "      WHEN month=07 THEN 'July'\n",
    "      WHEN month=08 THEN 'August'\n",
    "      WHEN month=09 THEN 'September'\n",
    "      WHEN month=10 THEN 'October'\n",
    "      WHEN month=11 THEN 'November'\n",
    "      WHEN month=12 THEN 'December'\n",
    "    END as month,\n",
    "    year\n",
    "  FROM\n",
    "    (\n",
    "    SELECT\n",
    "    user_type,\n",
    "    CAST(EXTRACT(MONTH from start_time) as INT64) as month,\n",
    "    CAST(EXTRACT(YEAR from start_time) as INT64) as year\n",
    "    FROM\n",
    "    `Cyclistic.cyclistic_trips_2013`\n",
    "\n",
    "    UNION ALL\n",
    "\n",
    "    SELECT\n",
    "      user_type,\n",
    "      CAST(EXTRACT(MONTH from start_time) as INT64) as month,\n",
    "      CAST(EXTRACT(YEAR from start_time) as INT64) as year\n",
    "      FROM\n",
    "      `Cyclistic.cyclistic_trips_2014`\n",
    "\n",
    "    UNION ALL\n",
    "\n",
    "    SELECT\n",
    "      user_type,\n",
    "      CAST(EXTRACT(MONTH from start_time) as INT64) as month,\n",
    "      CAST(EXTRACT(YEAR from start_time) as INT64) as year\n",
    "      FROM\n",
    "      `Cyclistic.cyclistic_trips_2015`\n",
    "\n",
    "    UNION ALL\n",
    "\n",
    "    SELECT\n",
    "      user_type,\n",
    "      CAST(EXTRACT(MONTH from start_time) as INT64) as month,\n",
    "      CAST(EXTRACT(YEAR from start_time) as INT64) as year\n",
    "      FROM\n",
    "      `Cyclistic.cyclistic_trips_2016`\n",
    "\n",
    "    UNION ALL\n",
    "\n",
    "    SELECT\n",
    "      user_type,\n",
    "      CAST(EXTRACT(MONTH from start_time) as INT64) as month,\n",
    "      CAST(EXTRACT(YEAR from start_time) as INT64) as year\n",
    "      FROM\n",
    "      `Cyclistic.cyclistic_trips_2017`\n",
    "\n",
    "    UNION ALL\n",
    "\n",
    "    SELECT\n",
    "      user_type,\n",
    "      CAST(EXTRACT(MONTH from start_time) as INT64) as month,\n",
    "      CAST(EXTRACT(YEAR from start_time) as INT64) as year\n",
    "      FROM\n",
    "      `Cyclistic.cyclistic_trips_2018`\n",
    "\n",
    "    UNION ALL\n",
    "\n",
    "    SELECT\n",
    "      user_type,\n",
    "      CAST(EXTRACT(MONTH from start_time) as INT64) as month,\n",
    "      CAST(EXTRACT(YEAR from start_time) as INT64) as year\n",
    "      FROM\n",
    "      `Cyclistic.cyclistic_trips_2019`\n",
    "\n",
    "    UNION ALL\n",
    "\n",
    "    SELECT\n",
    "      user_type,\n",
    "      CAST(EXTRACT(MONTH from start_time) as INT64) as month,\n",
    "      CAST(EXTRACT(YEAR from start_time) as INT64) as year\n",
    "      FROM\n",
    "      `Cyclistic.cyclistic_trips_2020`\n",
    "\n",
    "    UNION ALL\n",
    "\n",
    "    SELECT\n",
    "      user_type,\n",
    "      CAST(EXTRACT(MONTH from start_time) as INT64) as month,\n",
    "      CAST(EXTRACT(YEAR from start_time) as INT64) as year\n",
    "      FROM\n",
    "      `Cyclistic.cyclistic_trips_2021`\n",
    "\n",
    "    UNION ALL\n",
    "\n",
    "    SELECT\n",
    "      user_type,\n",
    "      CAST(EXTRACT(MONTH from start_time) as INT64) as month,\n",
    "      CAST(EXTRACT(YEAR from start_time) as INT64) as year\n",
    "      FROM\n",
    "      `Cyclistic.cyclistic_trips_2022`\n",
    "    ))\n",
    "WHERE\n",
    "  user_type = 'member'\n",
    "GROUP BY\n",
    "  month, year, user_type\n",
    "ORDER BY\n",
    "  year ASC;"
   ]
  },
  {
   "attachments": {},
   "cell_type": "markdown",
   "metadata": {},
   "source": [
    "<p align=center> \n",
    "  <img align=center src=\"https://github.com/Rhappy/Cyclistic/blob/main/imgs_pt/9.%20Hor%C3%A1rios%20populares%20de%20uso%20por%20tipo%20de%20usu%C3%A1rio.png?raw=true\" alt=\"trip_time_month_casuals\">\n",
    "</p>"
   ]
  },
  {
   "attachments": {},
   "cell_type": "markdown",
   "metadata": {},
   "source": [
    "<p>O gráfico acima, pode-se visualizar a diferença entre horários de utilização de cada tipo de usuário ao longo do dia. \n",
    "Enquanto usuários casuais utilizam o serviço de aluguel de bicicletas com mais uniformidade ao longo do dia, levemente crescente a partir das 10h, pico às 17h e leve declínio até às 22h, os membros possuem dois picos de utilização: às 8h e às 18h. </p>\n",
    "<p>Tais registros evidenciam a suposição de que usuários casuais utilizam o serviço da Cyclistic para atividades mais variadas ao longo do dia, possivelmente relacionadas à turismo e entretenimento. </p>\n",
    "<p>Já os picos de utilização de membros, apesar de manter uma atividade considerável entre esses períodos, evidenciam que estes membros possivelmente utilizam as bicicletas para trajetos de ida e volta de suas atividades profissionais, semelhante aos horários de pico de automóveis registrados pelo departamento de trânsito da cidade.</p>"
   ]
  },
  {
   "cell_type": "code",
   "execution_count": null,
   "metadata": {
    "vscode": {
     "languageId": "sql"
    }
   },
   "outputs": [],
   "source": [
    "/* Horários mais populares de utilização entre membros e casuals */\n",
    "SELECT\n",
    "  RANK() OVER (ORDER BY quantity DESC) as rank,\n",
    "  quantity,\n",
    "  user_type,\n",
    "  hour\n",
    "FROM\n",
    "  (\n",
    "  SELECT \n",
    "    COUNT(*) as quantity,\n",
    "    user_type,\n",
    "    hour\n",
    "  FROM\n",
    "    (\n",
    "    SELECT\n",
    "      user_type,\n",
    "      hour\n",
    "    FROM\n",
    "      (\n",
    "      SELECT\n",
    "      user_type,\n",
    "      CAST(EXTRACT(HOUR from start_time) as INT64) as hour\n",
    "      FROM\n",
    "      `Cyclistic.cyclistic_trips_2013`\n",
    "\n",
    "      UNION ALL\n",
    "\n",
    "      SELECT\n",
    "        user_type,\n",
    "        CAST(EXTRACT(HOUR from start_time) as INT64) as hour\n",
    "        FROM\n",
    "        `Cyclistic.cyclistic_trips_2014`\n",
    "\n",
    "      UNION ALL\n",
    "\n",
    "      SELECT\n",
    "        user_type,\n",
    "        CAST(EXTRACT(HOUR from start_time) as INT64) as hour\n",
    "        FROM\n",
    "        `Cyclistic.cyclistic_trips_2015`\n",
    "\n",
    "      UNION ALL\n",
    "\n",
    "      SELECT\n",
    "        user_type,\n",
    "        CAST(EXTRACT(HOUR from start_time) as INT64) as hour\n",
    "        FROM\n",
    "        `Cyclistic.cyclistic_trips_2016`\n",
    "\n",
    "      UNION ALL\n",
    "\n",
    "      SELECT\n",
    "        user_type,\n",
    "        CAST(EXTRACT(HOUR from start_time) as INT64) as hour\n",
    "        FROM\n",
    "        `Cyclistic.cyclistic_trips_2017`\n",
    "\n",
    "      UNION ALL\n",
    "\n",
    "      SELECT\n",
    "        user_type,\n",
    "        CAST(EXTRACT(HOUR from start_time) as INT64) as hour\n",
    "        FROM\n",
    "        `Cyclistic.cyclistic_trips_2018`\n",
    "\n",
    "      UNION ALL\n",
    "\n",
    "      SELECT\n",
    "        user_type,\n",
    "        CAST(EXTRACT(HOUR from start_time) as INT64) as hour\n",
    "        FROM\n",
    "        `Cyclistic.cyclistic_trips_2019`\n",
    "\n",
    "      UNION ALL\n",
    "\n",
    "      SELECT\n",
    "        user_type,\n",
    "        CAST(EXTRACT(HOUR from start_time) as INT64) as hour\n",
    "        FROM\n",
    "        `Cyclistic.cyclistic_trips_2020`\n",
    "\n",
    "      UNION ALL\n",
    "\n",
    "      SELECT\n",
    "        user_type,\n",
    "        CAST(EXTRACT(HOUR from start_time) as INT64) as hour\n",
    "        FROM\n",
    "        `Cyclistic.cyclistic_trips_2021`\n",
    "\n",
    "      UNION ALL\n",
    "\n",
    "      SELECT\n",
    "        user_type,\n",
    "        CAST(EXTRACT(HOUR from start_time) as INT64) as hour\n",
    "        FROM\n",
    "        `Cyclistic.cyclistic_trips_2022`\n",
    "    )\n",
    "      )\n",
    "      GROUP BY hour, user_type )\n",
    "WHERE\n",
    "  user_type = 'casual'\n",
    "GROUP BY\n",
    "  hour, user_type, quantity\n",
    "ORDER BY\n",
    "  rank ASC;"
   ]
  },
  {
   "attachments": {},
   "cell_type": "markdown",
   "metadata": {},
   "source": [
    "### <font color=\"8bb761\">6. Ações</font> <a class=\"anchor\" id=\"act\"></a>\n",
    "<p>Ao realizarmos a análise, ficam evidentes padrões entre usuários casuais e membros. Primeiramente, é adequado observar que os dados fornecidos não são dados de cadastros, sendo difícil estimar a quantidade de pessoas que são membros e a quantidade que usa serviço casualmente. As bases de dados fornecem apenas dados sobre viagens, tornando os três primeiros itens da análise potencialmente duvidosos, de forma que, por exemplo, uma maior quantidade de viagens realizada por membros não significa necessariamente que existem mais membros do que usuários casuais, pois um único membro pode realizar centenas de viagens por ano enquanto centenas de usuários casuais podem realizar uma viagem cada. </p>\n",
    "\n",
    "<p>Levando tais quesitos em consideração, são integralmente pertinentes as análises dos itens 5.2.4 ao 5.2.6, onde observamos padrões de viagens filtradas por tipo de usuário. </p>\n",
    "\n",
    "<p>A primeira sugestão de ação para possibilitar o aumento de membros com assinatura seria investir em uma maior diversidade de planos. Atualmente, existe apenas um tipo de plano anual (Cyclistic members) enquanto usuários casuais escolhem entre uma viagem única ou um passe que vale para o dia. Levando-se em consideração que muito usuários casuais utilizam o serviço para passeios, uma possibilidade válida seria a criação de planos que contemplem mais de uma pessoa por assinatura e lançamento de planos em períodos mais curtos, de 1 mês e de 3 meses. </p>\n",
    "\n",
    "<p>Outra abordagem interessante seria a disponibilização de situações promocionais sazonais, tendo em vista que existem períodos no ano de maior utilização, aproveitando-se do clima quente para estimular o uso das bicicletas para atividades ao ar livre. Por exemplo, pode-se criar uma promoção em julho com condições especiais como um maior tempo de uso sem pagamento de taxa adicional, ou criando uma parceria que conceda descontos em produtos como refrescos e sorvetes, muito consumidos nessa épooca do ano. </p>\n",
    "\n",
    "<p>Há também a possibilidade do registro de rotas realizadas pela pessoa em sua conta pessoal. Há uma tendência de aplicativos ligados à saúde física que registram trajetos por GPS onde o usuário pode compartilhar a rota, fazer a contagem da distância e do tempo em que o trajeto foi percorrido. Tal ação poderia trazer uma maior aderência de usuários que buscam uma forma de exercitar-se em conjunto com uma ferramenta de monitoramento e compartilhamento nas redes sociais de acordo com a iniciativa do usuário. Em aproveitamento à premissa da saúde e bem-estar, é possível também utilizar planos promocionais para trazer mais usuários em outros períodos e uma campanha publicitária que sugira os benefícios de introduzir atividades físicas na bicicleta no dia a dia, estimulando o uso em tarefas rotineiras como ida e vinda do trabalho e transitar em pequenos trajetos ao longo do dia. </p> \n",
    "\n",
    "<p>Estima-se que uma parcela considerável dos usuários casuais seja formada por turistas tendo em vista as estações populares em pontos turísticos. Devido ao caráter passageiro dessa categoria não há uma boa previsibilidade para torná-los membros do serviço de aluguel de bicicletas. Contudo, uma forma de atrair mais atenção do público seria sugerindo rotas populares voltadas para áreas histórias e turísticas da cidade de Chicago, possivelmente com roteiros para serem executados divididos em algumas horas baseados no local de partida. Assim, pode-se transformar um passeio casual de bicicleta em uma experiência a ser vivenciada ao visitar Chicago. </p>"
   ]
  },
  {
   "attachments": {},
   "cell_type": "markdown",
   "metadata": {},
   "source": [
    "### <font color=\"8bb761\">7. Conclusão</font> <a class=\"anchor\" id=\"conclusion\"></a>\n",
    "<p>Os serviço é oferecido de uma parceria entre uma empresa que realiza a manutenção e reposição das bicicletas, bem como o desenvolvimento e manutenção do aplicativo, com a prefeitura da cidade de Chicago, Illinois. Os dados fornecidos por essa parceria sugerem padrões comportamentais distintos entre usuários casuais e membros, de forma que a busca da fidelização de usuários possa não parecer simples.</p>\n",
    "\n",
    "<p>Contudo, a existência dessa parceria pode contar com um engajamento constante do governo em promoção de temas como saúde, bem-estar, entretenimento e meio ambiente. Ações de marketing em conjunto com a criação de planos adicionais, promoções sazonais, sistema de registro e compartilhamento de percurso, e rotas de turismo podem aumentar tanto a base de cidadãos fixos de Chicago à parcela de membros quanto estimular uma maior utilização de usuários casuais de passagem pela cidade.</p>"
   ]
  },
  {
   "attachments": {},
   "cell_type": "markdown",
   "metadata": {},
   "source": [
    "### <font color=\"8bb761\">8. Bibliografia Complementar</font> <a class=\"anchor\" id=\"bibliography\"></a>\n",
    " - <a href=\"https://www.chicago.gov/city/en/sites/covid-19/home/health-orders.html\">COVID-19 Orders - Chicago.gov</a> - Atualizações relacionadas às recomendações governamentais a cerca da pandemia de COVID-19. Utilizado para contextualizar a análise do item 5.2.1.\n",
    "\n",
    " - <a href=\"https://www.weather.gov/lot/Annual_Temperature_Rankings_Chicago\">National Weather Service</a> - National Oceanic and Atmospheric Administration. Possui os registros de temperaturas utilizados para contextualizar a análise do item 5.2.6.\n",
    "\n",
    " - <a href=\"https://www.chicago.gov/city/en/depts/cdot/provdrs/traffic_signals_andstreetlights/news/2020/january/city-officials-will-enforce-am-and-pm-rush-hour-restrictions-on-.html\">Chicago - Transportation</a> - Portal da Cidade de Chicago citando os horários de pico de automóveis nas ruas. Utilizado para contextualizar a análise do item 5.2.6."
   ]
  }
 ],
 "metadata": {
  "kernelspec": {
   "display_name": "Python 3.11.0 64-bit",
   "language": "python",
   "name": "python3"
  },
  "language_info": {
   "codemirror_mode": {
    "name": "ipython",
    "version": 3
   },
   "file_extension": ".py",
   "mimetype": "text/x-python",
   "name": "python",
   "nbconvert_exporter": "python",
   "pygments_lexer": "ipython3",
   "version": "3.11.0 (main, Oct 24 2022, 18:26:48) [MSC v.1933 64 bit (AMD64)]"
  },
  "orig_nbformat": 4,
  "vscode": {
   "interpreter": {
    "hash": "e788497cb3569157be8e656aed1f4beb46e0ad7c9c943d25fb630c9e375e334a"
   }
  }
 },
 "nbformat": 4,
 "nbformat_minor": 2
}
