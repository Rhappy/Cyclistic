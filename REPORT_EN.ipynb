{
 "cells": [
  {
   "attachments": {},
   "cell_type": "markdown",
   "metadata": {},
   "source": [
    "<p align=center> \n",
    "  <img align=center height=350 width=350 src=\"https://github.com/Rhappy/Cyclistic/blob/main/cyclistic_logo.png?raw=true\" alt=\"cyclistic\">\n",
    "</p>\n",
    "\n",
    "### <p align=center><font color=\"8bb761\"> Google Data Analytics Professional Certificate - Capstone Project\n",
    "</font> </p>\n",
    "<p align=center><font color=\"3c94a3\"> Made with SQL in BigQuery and Tableau </font></p>\n",
    "\n",
    "## <font color=\"8bb761\">Index</font>\n",
    "- [**1. About the company**](#companysummary)\n",
    "- [**2. Questions**](#ask)\n",
    "  - [2.1 Business task](#businesstask)\n",
    "  - [2.2 Stakeholders](#stakeholders)\n",
    "- [**3. Preparation**](#prepare)\n",
    "  - [3.1 Data used](#dataused)\n",
    "  - [3.2 Data accessibility and use](#dataaccessibility)\n",
    "  - [3.3 Data summary](#datasummary)\n",
    "  - [3.4 Data limitations and integrity](#datalimit)\n",
    "- [**4. Process**](#process)\n",
    "  - [4.1 Used sata sets](#dataselected)\n",
    "  - [4.2 Using SQL to clean the data](#cleaning)\n",
    "    - [4.2.1 Standardization of attributes between tables](#attributes)\n",
    "    - [4.2.2 Organization of tables by year](#joinbyyear)\n",
    "    - [4.2.3 Cleanup of irregular or null data](#correctingdata)\n",
    "- [**5. Analysis and Visualization**](#analyze)\n",
    "  - [5.1 Setting Patterns](#patterns)\n",
    "  - [5.2 Perceptions](#perceptions)\n",
    "    - [5.2.1 Quantity of trips](#quantity_trips)\n",
    "    - [5.2.2 Gender declared](#genre)\n",
    "    - [5.2.3 Birth year](#usertypes3)\n",
    "    - [5.2.4 Trip duration](#trip_duration)\n",
    "    - [5.2.5 Most popular stations](#station_pop)\n",
    "    - [5.2.6 Popular months and hours](#trip_time)\n",
    "- [**6. Actions**](#act)\n",
    "- [**7. Conclusion**](#conclusion)\n",
    "- [**8. Complementary Bibliography**](#bibliography)\n"
   ]
  },
  {
   "attachments": {},
   "cell_type": "markdown",
   "metadata": {},
   "source": [
    "### <font color=\"8bb761\">1. About the company</font> <a class=\"anchor\" id=\"companysummary\"></a>\n",
    "<p> Cyclistic is an American company, located in Chicago, Illinois, founded in 2016, focused on bike sharing. The company has 5,824 bicycles distributed in a network of 692 stations, places that allow unlocking a bicycle at one location and returning it at another.</p>\n",
    "<p> The following types of bicycles are available for rent: </p>\n",
    "\n",
    "- **Traditional bicycles**: Two-wheel model with the traditional shape.\n",
    "- **Reclining bikes**: Including model with two wheels where the stool is replaced by a seat with backrest slightly reclined backwards, where the user, when sitting down, positions the handlebars between the legs and uses the pedals that are at the front of the front wheel to start the movement.\n",
    "- **Cargo bike**: Inclusive model of bike with support for objects.\n",
    "- **Manual tricycles**: Inclusive model of seat tricycle with backrest where the steering handlebar also has a rotating mechanism similar to the traditional pedal, but to be used with the hands.\n",
    "\n",
    "<p>According to previous data, about 8% of users use alternative models to traditional bicycles. It is also known that around 30% use one of the models to go to work, while the rest are dedicated to leisure.</p>\n",
    " "
   ]
  },
  {
   "attachments": {},
   "cell_type": "markdown",
   "metadata": {},
   "source": [
    "### <font color=\"8bb761\">2. Questions</font> <a class=\"anchor\" id=\"ask\"></a>\n",
    "\n",
    "**<font size=4><font color=\"8bb761\">2.1</font> Business Task</font>** <a class=\"anchor\" id=\"businesstask\"></a>\n",
    "<p>The company divides customers into two large groups, separated by usage and payment patterns. The first group is formed by users who buy single use or daily rental passes, also called <i>casual riders</i>. The second group consists of users who purchase an annual membership plan, called <i>Cyclistic members</i>. </p>\n",
    "<p>Cyclistic's financial analysts carried out an analysis whose conclusion is that, despite the flexibility of prices and plans to attract more customers, annual plans are more profitable than passes to <i>casual riders</i>. In this way, there is an expectation of transforming the <i>casual riders</i> in subscribers of the annual usage plan.</p>\n",
    "<p>This analysis aims to clarify the differences in use between <i>Casual Riders</i> and <i>Cyclistic Members</i> and, based on this, propose suggestions on how to consider the needs of users so that there is a migration from casual to annual plans.</p>\n",
    "\n",
    "**<font size=4><font color=\"8bb761\">2.2</font> Stakeholders</font>** <a class=\"anchor\" id=\"stakeholders\"></a>\n",
    "\n",
    "- **Executive team**: team responsible for approving analysts' recommendations.\n",
    "- **Marketing Analysis Team**: team responsible for collecting and analyzing customer data.\n",
    "- **Lily Moreno**: Director of Marketing at Cyclistic, responsible for advertising campaigns and initiatives, and for the suggestion to turn casual users into annual plan members. "
   ]
  },
  {
   "attachments": {},
   "cell_type": "markdown",
   "metadata": {},
   "source": [
    "## <font color=\"8bb761\">3. Preparation</font> <a class=\"anchor\" id=\"prepare\"></a>\n",
    "\n",
    "**<font size=4><font color=\"8bb761\">3.1</font> Data used</font>** <a class=\"anchor\" id=\"dataused\"></a>\n",
    "<p>The data used in this analysis were provided by the company Divvy (Lyft Bikes and Scooters, LLC “Bikeshare”) which operates in the same segment and region as the fictional Cyclistic. Such data is owned by the City of Chicago in the United States through an initiative to include alternative transport in the city.</p>\n",
    "\n",
    "**<font size=4><font color=\"8bb761\">3.2</font> Data accessibility and use</font>** <a class=\"anchor\" id=\"dataaccessibility\"></a>\n",
    "<p>This dataset is registered under a license that makes it possible, on a non-exclusive basis, <i>royalty-free</i> and unlimited perpetual access to access, reproduce, review, copy, modify and distribute your product or service. Restrictive, commercial or illegal use is prohibited. The entire data usage agreement is available at <a href=https://ride.divvybikes.com/data-license-agreement>Divvy Bikes - Data License Agreement</a></p>\n",
    "\n",
    "<p>The location where the datasets are made available at <a href=\"https://divvy-tripdata.s3.amazonaws.com/index.html\"> Divvy Trip Data</a>, sets that will also be added attached to the publication of this report. Additionally, an updated spreadsheet referring to the stations was inserted in the link <a href=\"https://data.cityofchicago.org/Transportation/Divvy-Bicycle-Stations/bbyy-e7gq\"> of Chicago's City Hall</a>, as the station information provided by the project would not be sufficient for proper analysis.</p>\n",
    "<p>In addition to the contents made available for analysis, there is a <a href=\"https://account.divvybikes.com/map\">open access digital tool</a> which makes it possible to monitor the status of the stations in real time, based on the number of bicycles available. This tool was not used for any stage of analysis, however, it is recorded for knowledge of the service offered by the company Divvy in conjunction with the City of Chicago. </p>\n",
    "\n",
    "**<font size=4><font color=\"8bb761\">3.3</font> Data summary </font>**  <a class=\"anchor\" id=\"datasummary\"></a>\n",
    "<p>As provided in the link in the previous subtopic, 49 compact folders containing 69 .cvs files and 1 .xlsx file, with data from June 2013 to September 2022.</p>\n",
    "\n",
    "##### <font color=\"3c94a3\">Trip Data</font>\n",
    "<p>Information on trips for the period from 2013 to 2022.</p>\n",
    "\n",
    "|<font color=\"8bb761\"> Attributes </font> | <font color=\"8bb761\">Data type</font> | <font color=\"8bb761\">Description</font> | <font color=\"8bb761\">Observations</font> |\n",
    "| --- | --- | --- | --- |\n",
    "| <font color=\"3c94a3\">trip_id</font> | STRING | ID corresponding to the trip | Also referred as<i>_01___Rental_Details_Rental_ID</i> (2018 and 2019) e <i>ride_id</i> (2020 to 2022). |\n",
    "| <font color=\"3c94a3\">start_time</font> | DATETIME | Date and time of start of the trip | Also referred as <i>starttime</i> (2013 to 2016) , <i>_01___Rental_Details_Local_Start_Time</i>(2018 and 2019) and <i>started_at</i> (2020 to 2022). |\n",
    "| <font color=\"3c94a3\">end_time</font> |  DATETIME |  Date and time of end of the trip | Also referred as <i>stoptime</i> (2013 to 2016), <i>_01___Rental_Details_Local_End_Time</i> (2018 and 2019) and <i>ended_at</i> (2020 to 2022). |\n",
    "| <font color=\"3c94a3\">start_station_id</font> | STRING |  Equipment departure station ID | Also referred as <i>from_station_id</i> (2013 to 2017, 2019) and <i>_03___Rental_Start_Station_ID</i> (2018 and 2019). |\n",
    "| <font color=\"3c94a3\">start_station_name</font> | STRING |  Name of departure station of rented equipment | Also referred as <i>from_station_name</i> (2013 to 2017, 2019) and <i>_03___Rental_Start_Station_Name</i> (2018 and 2019). |\n",
    "|<font color=\"3c94a3\"> end_station_id</font> |  STRING |  Rental Equipment return station ID | Also referred as <i>to_station_id</i> (2013 to 2017, 2019) and <i>_02___Rental_End_Station_ID</i> (2018 and 2019). |\n",
    "| <font color=\"3c94a3\">end_station_name</font> |  STRING |  Name of rental equipment return station | Also referred as <i>to_station_name</i> (2013 to 2017, 2019) and <i>_02___Rental_End_Station_Name</i> (2018 and 2019). |\n",
    "| <font color=\"3c94a3\">user_type</font> |  STRING |  Describes the type of rider as <i>Casual Rider</i> or <i> Cyclistic Member</i> | Also referred as <i>usertype</i> (2013 to 2017, 2019) and <i>member_casual</i> (2020 to 2022). |\n",
    "| <font color=\"3c94a3\">gender</font> |  STRING |  Declared gender of the user | Also referred as <i>Member_Gender</i> (2018), unused attribute from 2020 to 2022. Exclusive field for <i>Cyclistic Members</i>. |\n",
    "| <font color=\"3c94a3\">birth_year</font> | INTEGER |  User's year of birth | Also referred ad <i>_05___Member_Details_Member_Birthday_Year</i> (2018 and 2019), unused attribute from 2020 to 2022. Exclusive field for <i>Cyclistic Members</i>. |\n",
    "| <font color=\"3c94a3\">bike_id</font> |  STRING |  ID corresponding to the rented equipment | Also referred as <i>bikeid</i> (2013 to 2017, 2019) and as <i>_01___Rental_Details_Bike_ID</i> (2018 and 2019). Unused attribute from 2020 to 2022. |\n",
    "| <font color=\"3c94a3\">trip_duration</font> |  INTEGER | Duration in seconds | Also referred as <i>tripduration</i> (2013 to 2017, 2019) and <i>_01___Rental_Details_Duration_In_Seconds_Uncapped</i> (2018 and 2019). Unused attribute from 2020 to 2022. |\n",
    "| <font color=\"3c94a3\">rideable_type</font> |  STRING |  Type of equipment used | Attribute introduced from 2020. |\n",
    "| <font color=\"3c94a3\">start_lat</font> | FLOAT | Latitude where the starting point is located | Attribute introduced in 2020. |\n",
    "| <font color=\"3c94a3\">start_long</font> |  FLOAT | Longitude where the starting point is located | Attribute introduced in 2020. |\n",
    "| <font color=\"3c94a3\">end_lat</font> |  FLOAT | Latitude where the return station is located | Attribute introduced in 2020. |\n",
    "| <font color=\"3c94a3\">end_long</font> |  FLOAT | Longitude where the return station is located | Attribute introduced in 2020. |\n",
    "\n",
    "\n",
    "##### <font color=\"3c94a3\">Trip Stations</font>\n",
    "<p>Information regarding equipment rental and return stations from 2013 to 2017. Information for the period from 2018 to 2022 is not available within the provided database. </p>\n",
    "\n",
    "|<font color=\"8bb761\"> Attributes </font> | <font color=\"8bb761\">Data type</font> | <font color=\"8bb761\">Description</font> | <font color=\"8bb761\">Observations</font> |\n",
    "| --- | --- | --- | --- |\n",
    "| <font color=\"3c94a3\">id</font> | STRING | Station ID | - |\n",
    "| <font color=\"3c94a3\">name</font> | STRING | Station name | Station names refer to the streets they are located on. |\n",
    "| <font color=\"3c94a3\">latitude</font> | FLOAT | Latitude where the station is located | -  |\n",
    "| <font color=\"3c94a3\">longitude</font> | FLOAT | Longitude where the station is located | - |\n",
    "| <font color=\"3c94a3\">dp_capacity</font> | INTEGER | Total dock capacity | - |\n",
    "| <font color=\"3c94a3\">active_since</font> | DATE | Station operation start date | Also referred as <i>dateCreated</i> (2014) and <i>online_date</i> (2013 to 2017). |\n",
    "| <font color=\"3c94a3\">city</font> | STRING | City where the station is located | Attribute introduced only in 2017. |\n",
    "| <font color=\"3c94a3\">landmark</font> | STRING | Numeric data of unknown function | Attributes only appear in 2013 and 2015. Will not be used due to lack of metadata |\n",
    "| <font color=\"3c94a3\">string_field_7</font> | STRING | Attribute without values |Attribute added in the second half of 2017. Not used due to lack of values ​​and metadata |\n",
    "\n",
    "<br>\n",
    "\n",
    "**<font size=4><font color=\"8bb761\">3.4</font> Data Limitation and Integrity </font>** <a class=\"anchor\" id=\"datalimit\"></a>\n",
    "<p>There is a large amount of data available over a long period of time, which is kept up to date. Part of the data has been added to the base on a quarterly basis while more recent data is added monthly. The large amount of data allows the analysis to determine more uniform patterns of user habits. However, the division of files and the lack of uniformity in the content of attributes can lead to incomplete analyses.</p> \n",
    "\n",
    "<p>It is known that the data are collected in the city of Chicago, in the United States, however, there is a lack of data that can find a specific demographic pattern of the users, caused by the removal of gender and age attributes and by the absence of metadata that describe the purchasing power of the users, as well as other consumption habits. According to the Data License Agreement link, data related to consumption and payment methods have been removed based on the data protection agreement.</p>\n",
    "\n",
    "<p>In a superficial analysis of the data, it is possible to identify that some attributes have different names to represent the same types of data in different tables. It is also possible to identify null records, which will be disregarded in analyzes where appropriate, and records with incorrect formats and/or <i>typos</i> will be corrected, if possible. </p>\n",
    "\n",
    "<p>The data is provided by the company <a href=\"https://ride.divvybikes.com\">Divvy Bikes</a> together with  <a href=\"https://www.chicago.gov/city/en/general/search_results.html#stq=bike&stp=1\">Chicago City Hall</a>, which guarantees the reliability and integrity of the database used in this analysis.</p>"
   ]
  },
  {
   "attachments": {},
   "cell_type": "markdown",
   "metadata": {},
   "source": [
    "## <font color=\"8bb761\">4. Process</font> <a class=\"anchor\" id=\"process\"></a>\n",
    "\n",
    "**<font size=4><font color=\"8bb761\">4.1</font> Used data sets</font>** <a class=\"anchor\" id=\"dataselected\"></a>\n",
    "<p> All entities provided in the database were used in the analysis. </p>\n",
    "\n",
    "**<font size=4><font color=\"8bb761\">4.2</font> Use of SQL (BigQuery) for data cleansing</font>** <a class=\"anchor\" id=\"cleaning\"></a>\n",
    "<p>For the cleaning and analysis of the files, the BigQuery tool was used, owned by <a href=\"https://console.cloud.google.com/bigquery\">Google Cloud Platform</a>.\n",
    "\n",
    "**<font size=3><font color=\"8bb761\">4.2.1</font> Standardization of attributes between tables </font>** <a class=\"anchor\" id=\"attributes\"></a>\n",
    "<p>Due to the variety of column names, the first step was to rename some columns in certain tables to make them clearer and more uniform. The names used after the change are the same highlighted in the column <i>Attributes</i> of the tables in item 3.3. Summary of Data, with deletion of terms presented in the <i>Observation</i> field.</p>\n",
    "\n",
    "<p>Accompanying this report is a file called <i>Cyclist_initial_data.zip</i> with all the original database files. Separately, there is a file called <i>renaming_droping_process.sql</i> with the detailed column renaming process.</p>\n"
   ]
  },
  {
   "cell_type": "code",
   "execution_count": null,
   "metadata": {
    "vscode": {
     "languageId": "sql"
    }
   },
   "outputs": [],
   "source": [
    "/* Attribute changes made to the table for the year 2013, also made to other tables as needed and in accordance with the established standard. */\n",
    "\n",
    "ALTER TABLE\n",
    "  `Cyclistic.Divvy_Trips_2013` \n",
    "RENAME COLUMN\n",
    "  starttime to start_time,\n",
    "RENAME COLUMN\n",
    "  stoptime to end_time,\n",
    "RENAME COLUMN\n",
    "  bikeid to bike_id,\n",
    "RENAME COLUMN\n",
    "  tripduration to trip_duration,\n",
    "RENAME COLUMN\n",
    "  from_station_id to start_station_id,\n",
    "RENAME COLUMN\n",
    "  from_station_name to start_station_name,\n",
    "RENAME COLUMN\n",
    "  to_station_id to end_station_id,\n",
    "RENAME COLUMN\n",
    "  to_station_name to end_station_name,\n",
    "RENAME COLUMN\n",
    "  usertype to user_type,\n",
    "RENAME COLUMN\n",
    "  birthday to birth_year;"
   ]
  },
  {
   "cell_type": "code",
   "execution_count": null,
   "metadata": {
    "vscode": {
     "languageId": "sql"
    }
   },
   "outputs": [],
   "source": [
    "/* Removal of columns without explanatory metadata or filled with null data.*/\n",
    "ALTER TABLE\n",
    "  `Cyclistic.Divvy_Stations_2013`\n",
    "DROP COLUMN\n",
    "  landmark;\n",
    "\n",
    "ALTER TABLE \n",
    "  `Cyclistic.Divvy_Stations_2017_Q3Q4`\n",
    "DROP COLUMN\n",
    "  string_field_7;"
   ]
  },
  {
   "attachments": {},
   "cell_type": "markdown",
   "metadata": {},
   "source": [
    "**<font size=3><font color=\"8bb761\">4.2.2</font> Organizing tables by year </font>** <a class=\"anchor\" id=\"joinbyyear\"></a>\n",
    "<p>As the tables were added without a well-defined pattern, divided into months, quarters or entire years, the tables were merged by year to assist in the process of data recognition and analysis.</p>\n",
    "\n",
    "<p>When joining the tables referring to the 2020 trips and the 2014 and 2017 seasons, it was necessary to use the CAST function to equalize the types of data between tables. The detailed process of joining all the tables is described in the <i>uniting_tables</i> file, which accompanies this project </p>"
   ]
  },
  {
   "cell_type": "code",
   "execution_count": null,
   "metadata": {
    "vscode": {
     "languageId": "sql"
    }
   },
   "outputs": [],
   "source": [
    "/* Merge entities by year data was collected */\n",
    "/* Column order was checked before using '*'. */\n",
    "SELECT \n",
    "  a.trip_id,\n",
    "  a.user_type,\n",
    "  a.rideable_type,\n",
    "  CAST(a.start_time as DATETIME) as start_time,\n",
    "  CAST(a.end_time as DATETIME) as end_time,\n",
    "  CAST(a.start_station_id AS STRING) as start_station_id,\n",
    "  a.start_station_name,\n",
    "  CAST(a.end_station_id AS STRING) as end_station_id,\n",
    "  a.end_station_name,\n",
    "  a.start_lat,\n",
    "  a.start_long,\n",
    "  a.end_lat,\n",
    "  a.end_long\n",
    "FROM\n",
    "  `cyclistic.202101-divvy-tripdata` as a\n",
    "\n",
    "UNION ALL\n",
    "\n",
    "SELECT \n",
    "  b.trip_id,\n",
    "  b.user_type,\n",
    "  b.rideable_type,\n",
    "  CAST(b.start_time as DATETIME) as start_time,\n",
    "  CAST(b.end_time as DATETIME) as end_time,\n",
    "  CAST(b.start_station_id AS STRING) as start_station_id,\n",
    "  b.start_station_name,\n",
    "  CAST(b.end_station_id AS STRING) as end_station_id,\n",
    "  b.end_station_name,\n",
    "  b.start_lat,\n",
    "  b.start_long,\n",
    "  b.end_lat,\n",
    "  b.end_long\n",
    "FROM\n",
    "  `cyclistic.202102-divvy-tripdata` as b\n",
    "\n",
    ".\n",
    ".\n",
    "."
   ]
  },
  {
   "cell_type": "code",
   "execution_count": null,
   "metadata": {
    "vscode": {
     "languageId": "sql"
    }
   },
   "outputs": [],
   "source": [
    "/* Merge entities by year data was collected */\n",
    "SELECT\n",
    "  a.id,\n",
    "  a.name,\n",
    "  a.latitude,\n",
    "  a.longitude,\n",
    "  a.dp_capacity,\n",
    "  a.active_since\n",
    "FROM\n",
    "  `Cyclistic.Divvy_Stations_2014-Q1Q2` as a\n",
    "\n",
    "UNION ALL\n",
    "\n",
    "SELECT\n",
    "  b.id,\n",
    "  b.name,\n",
    "  b.latitude,\n",
    "  b.longitude,\n",
    "  b.dp_capacity,\n",
    "  CAST(b.active_since AS DATE) as date\n",
    "FROM\n",
    "  `Cyclistic.Divvy_Stations_2014-Q3Q4` as b;"
   ]
  },
  {
   "attachments": {},
   "cell_type": "markdown",
   "metadata": {},
   "source": [
    "<p> Joining the tables resulted in 16 datasets:</p>\n",
    "\n",
    "| <font color=\"8bb761\"> Nome </font> | <font color=\"8bb761\">Quantidade de linhas</font> |\n",
    "| --- | --- |\n",
    "| <font color=\"3c94a3\">cyclistic_stations_2013</font> | 300 |\n",
    "| <font color=\"3c94a3\">cyclistic_stations_2014</font> | 600 |\n",
    "| <font color=\"3c94a3\">cyclistic_stations_2015</font> | 474 |\n",
    "| <font color=\"3c94a3\">cyclistic_stations_2016</font> | 1697 |\n",
    "| <font color=\"3c94a3\">cyclistic_stations_2017</font> | 1167 |\n",
    "| <font color=\"3c94a3\">cyclistic_stations</font> | 4238 |\n",
    "| <font color=\"3c94a3\">cyclistic_trips_2013</font> | 759788 |\n",
    "| <font color=\"3c94a3\">cyclistic_trips_2014</font> | 2454634 |\n",
    "| <font color=\"3c94a3\">cyclistic_trips_2015</font> | 3183439 |\n",
    "| <font color=\"3c94a3\">cyclistic_trips_2016</font> | 3595383 |\n",
    "| <font color=\"3c94a3\">cyclistic_trips_2017</font> | 3829014 |\n",
    "| <font color=\"3c94a3\">cyclistic_trips_2018</font> | 3603082 |\n",
    "| <font color=\"3c94a3\">cyclistic_trips_2019</font> | 3818004 |\n",
    "| <font color=\"3c94a3\">cyclistic_trips_2020</font> | 3541683 |\n",
    "| <font color=\"3c94a3\">cyclistic_trips_2021</font> | 5595063 |\n",
    "| <font color=\"3c94a3\">cyclistic_trips_2022</font> | 4589491 |"
   ]
  },
  {
   "attachments": {},
   "cell_type": "markdown",
   "metadata": {
    "vscode": {
     "languageId": "sql"
    }
   },
   "source": [
    "**<font size=3><font color=\"8bb761\">4.2.3</font> Cleanup of irregular or null data </font>** <a class=\"anchor\" id=\"correctingdata\"></a>\n",
    "<p>Initially, we looked for inconsistencies in the nomenclatures between the data represented in the columns of the same name in different tables, or unexpected data. All changes made in this step will be with the project in the <i>cleaning_process.sql</i> file, divided by table.</p>\n",
    "\n",
    "<p>The first inconsistency was identified when looking for the types of entries and their occurrence in the <i>user_type</i> columns. In 2013 and 2014, users were named 'Subscriber' and 'Customer', values ​​corrected, respectively, for <i>casual</i> and <i>member</i> according to the nomenclature used by financial analysts and present from 2020 to 2022.</p>\n",
    "\n",
    "<p>From 2015 to 2017, the occurrence of the term <i>'Dependent'</i> (less than 0.01%) is observed, which does not have explanations about the profile of these customers and was not initially considered for the analisys. This term will also be disregarded throughout the analysis.</p>"
   ]
  },
  {
   "cell_type": "code",
   "execution_count": null,
   "metadata": {
    "vscode": {
     "languageId": "sql"
    }
   },
   "outputs": [],
   "source": [
    "/* Verification of terms that occur in specific columns in search of terms that deviate from what is expected */ \n",
    "SELECT\n",
    "  COUNT(*) as total,\n",
    "  user_type\n",
    "FROM\n",
    "  Cyclistic.cyclistic_trips_2013\n",
    "GROUP BY\n",
    "  user_type;\n",
    "\n",
    "SELECT\n",
    "  trip_id,\n",
    "  start_time,\n",
    "  end_time,\n",
    "  bike_id,\n",
    "  trip_duration,\n",
    "  start_station_id,\n",
    "  start_station_name,\n",
    "  end_station_id,\n",
    "  end_station_name,\n",
    "  CASE \n",
    "    WHEN user_type = 'Subscriber' THEN 'member'\n",
    "    WHEN user_type = 'Customer' THEN 'casual'\n",
    "    ELSE NULL\n",
    "  END as user_type,\n",
    "  LOWER(gender) as gender,\n",
    "  birth_year\n",
    "FROM\n",
    "  `Cyclistic.cyclistic_trips_2013`;"
   ]
  },
  {
   "attachments": {},
   "cell_type": "markdown",
   "metadata": {},
   "source": [
    "<p> In the dataset <i>cyclistic_station</i> resulting from the merging of the station spreadsheets, a check was made that the IDs used for each station were unique. After certifying that there were IDs with more than one name and coordinates, 46 new IDs were created so that the analysis was not impaired, later correcting the worksheets referring to trips. Possible spelling errors in the nomenclature of the stations, named according to the streets where they are installed, have also been corrected. This second check and correction was possible thanks to the availability of the coordinates. </p>\n",
    "\n",
    "<p> Changing the IDs was made exclusively for this analysis, not interfering with the database as a whole, based on numerical patterns found in the datasets produced up to 2017. In the updated dataset about stations, found outside the suggested link for the project, notes use of unique alphanumeric patterns.</p>"
   ]
  },
  {
   "cell_type": "code",
   "execution_count": null,
   "metadata": {
    "vscode": {
     "languageId": "sql"
    }
   },
   "outputs": [],
   "source": [
    "/* Conference of ids and names referring to the stations */\n",
    "SELECT \n",
    "  DISTINCT name,\n",
    "  id\n",
    "FROM \n",
    "    `Cyclistic.cyclistic_stations`\n",
    "ORDER BY\n",
    "  id ASC;\n",
    "\n",
    "/* Creation of new IDs */\n",
    "UPDATE\n",
    "  Cyclistic.cyclistic_stations\n",
    "SET\n",
    "  id = '20000'\n",
    "WHERE\n",
    "  name = 'Sheffield Ave & Waveland Ave';\n",
    "\n",
    "/* Incorrect name fix */\n",
    "UPDATE\n",
    "  Cyclistic.cyclistic_stations\n",
    "SET\n",
    "  name = 'Cornell Ave & Hyde Park Blvd'\n",
    "WHERE\n",
    "  id = '417';"
   ]
  },
  {
   "cell_type": "code",
   "execution_count": null,
   "metadata": {
    "vscode": {
     "languageId": "sql"
    }
   },
   "outputs": [],
   "source": [
    "/* Verification and correction of the cyclistic_trips dataset IDs according to the names registered in the cyclist_stations dataset */ \n",
    "  SELECT \n",
    "  DISTINCT a.start_station_name,\n",
    "  a.start_station_id,\n",
    "  b.name,\n",
    "  b.id\n",
    "FROM\n",
    "  `Cyclistic.cyclistic_trips_2013` as a \n",
    "  FULL JOIN `Cyclistic.stations` as b \n",
    "  ON a.start_station_name = b.name\n",
    "WHERE\n",
    " a.start_station_id != b.id\n",
    "ORDER BY\n",
    "  b.id ASC;\n",
    "\n",
    "UPDATE\n",
    "  `Cyclistic.cyclistic_trips_2013`\n",
    "SET\n",
    "  start_station_id = '20001'\n",
    "WHERE\n",
    "  start_station_name = 'State St & Erie St';\n",
    "\n",
    "UPDATE\n",
    "  `Cyclistic.cyclistic_trips_2013`\n",
    "SET\n",
    "  end_station_id = '20001'\n",
    "WHERE\n",
    "  end_station_name = 'State St & Erie St';"
   ]
  },
  {
   "attachments": {},
   "cell_type": "markdown",
   "metadata": {},
   "source": [
    "## <font color=\"8bb761\"> 5. Analysis and Visualization</font> <a class=\"anchor\" id=\"analyze\"></a>\n",
    "\n",
    "**<font size=4><font color=\"8bb761\">5.1</font> Setting patterns </font>** <a class=\"anchor\" id=\"patterns\"></a>\n",
    "<p><strong>Number of trips</strong>: the number of trips made by users (member or casual) is measured by counting non-zero occurrences in the column <i>trip_id</i>.</p>\n",
    "\n",
    "<p><strong>Gender informed:</strong> the user's gender is informed only in the case of <i>Cyclistic members</i>, noting a very low occurrence of members who decided not to share this information, not harming the analysis. Data recorded from 2013 to 2018, not being available from 2019 to 2022 for analysis.</p>\n",
    "\n",
    "<p><strong>Year of birth:</strong> The option to inform the year of birth is present for both <i>Cyclistic Members</i> and <i>Casual Riders</i>, however, it expresses unimpressive amounts in the portion of non-members, not being effective for comparative analysis of users profile. Data recorded from 2013 to 2018, not being available from 2019 to 2022 for analysis.</p>\n",
    "\n",
    "<p><strong>Duration of trips</strong>: the duration of trips is measured by the difference between the start and end time, informed in the datasets of all years, related to the mode of use of the user (member or casual) .</p>\n",
    "\n",
    "<p><strong>Popularity of stations</strong>: the popularity of stations was counted through their occurrence in trips, either at the beginning or at the end of the trip, using the columns <i>start_station_id</i> and <i>end_station_id</i>, excluding null registrations and bicycle maintenance stations.</p>\n",
    "\n",
    "<p><strong>Popular months and hours</strong>: popular months and hours analyzed by type of user (member or casual) through counts made possible by extracting the time, month and year from the column <i>start_time</i >.</p>\n",
    "\n",
    "<p>The complete content of the queries for the preparation of analyzes will be provided with the report, in a file called analysis.sql</p>"
   ]
  },
  {
   "attachments": {},
   "cell_type": "markdown",
   "metadata": {},
   "source": [
    "**<font size=4><font color=\"8bb761\">5.2</font> Perceptions </font>** <a class=\"anchor\" id=\"patterns\"></a>"
   ]
  },
  {
   "attachments": {},
   "cell_type": "markdown",
   "metadata": {
    "tags": []
   },
   "source": [
    "**<font size=3><font color=\"8bb761\">5.2.1</font> Quantity of trips </font>** <a class=\"anchor\" id=\"quantity_trips\"></a>\n",
    "<p align=center> \n",
    "  <img align=center src=\"https://raw.githubusercontent.com/Rhappy/Cyclistic/main/imgs_en/6.%20Amount%20of%20trips%20per%20year%20by%20user%20type.png\" alt=\"quantity_trips\">\n",
    "</p>"
   ]
  },
  {
   "attachments": {},
   "cell_type": "markdown",
   "metadata": {},
   "source": [
    "<p>In the analysis above, it is noted that the number of member users is higher than casual use, registering a significant increase in the years 2019 to 2021. There is no additional data in the files that suggest a correlation or causality effect. Seeking a possible context for such an increase, one can suggest behavioral changes in the population seeking a healthier lifestyle in early 2019 through awareness campaigns on health and the environment. </p>\n",
    "\n",
    "<p>As of 2020, the growth in both categories remains, which can be contextualized with the COVID-19 pandemic. It is known that the Government of Illinois, where the city of Chicago is located, started strong campaigns to avoid crowds, not allowing restaurants to serve in person. In this way, as the service has a fixed fee of up to 45 minutes of use, the bicycles would be used by couriers for <i>delivery</i>.</p>\n",
    "\n",
    "<p>Another portion of the growth may also have occurred due to the departure of the usual public transport such as buses and subways, as they are considered potentially infected environments. Thus, citizens would resort to bicycles in search of an alternative means of transport, in the open air and with less chance of contamination to go to work, go shopping or take walks.</p>\n",
    "\n",
    "<p>The evident decrease in users, mainly casual users, in the course of 2021 and 2022 can also be contextualized with a reduction in restrictions related to COVID-19, with population habits returning to pre-pandemic patterns.</p>"
   ]
  },
  {
   "cell_type": "code",
   "execution_count": null,
   "metadata": {
    "vscode": {
     "languageId": "sql"
    }
   },
   "outputs": [],
   "source": [
    "/* Count of number of trips per year by user type */\n",
    " \n",
    "SELECT \n",
    "  COUNT(*) as total_trips,\n",
    "  year,\n",
    "  user_type\n",
    "FROM \n",
    "  `Cyclistic.cyclistic_trips_and_stations`\n",
    "WHERE \n",
    "  user_type = 'member'\n",
    "GROUP BY \n",
    "  year, user_type\n",
    "  \n",
    "UNION ALL\n",
    "\n",
    "SELECT \n",
    "  COUNT(*) as total_trips,\n",
    "  year,\n",
    "  user_type\n",
    "FROM \n",
    "  `Cyclistic.cyclistic_trips_and_stations`\n",
    "WHERE \n",
    "  user_type = 'casual'\n",
    "GROUP BY \n",
    "  year, user_type\n",
    "\n",
    "ORDER BY\n",
    "  year ASC;"
   ]
  },
  {
   "attachments": {},
   "cell_type": "markdown",
   "metadata": {},
   "source": [
    "**<font size=3><font color=\"8bb761\">5.2.2</font> Gender declared </font>** <a class=\"anchor\" id=\"genre\"></a>\n",
    "<p align=center> \n",
    "  <img align=center src=\"https://github.com/Rhappy/Cyclistic/blob/main/imgs_en/1.%20Cyclistic%20members%20by%20gender%20over%20years.png?raw=true\" alt=\"genre\">\n",
    "</p>"
   ]
  },
  {
   "attachments": {},
   "cell_type": "markdown",
   "metadata": {},
   "source": [
    "<p>At the time of member registration, it is possible to inform the user's gender, unlike the casual registration that requires less information. Thus, it is possible to conclude that the gender that prevails among the members is male, demonstrating, in the last year of this record in the database, a difference of 1,497,154 more users than female users.</p>\n",
    "<p>However, despite the considerable difference between the number of female and male users, the female gender shows a greater growth between the years, registering an average of 89.2% per year and a total of 446% since the beginning of the collection of data, against an annual growth of 71% and a total of 359% of the male public.</p>"
   ]
  },
  {
   "cell_type": "code",
   "execution_count": null,
   "metadata": {
    "vscode": {
     "languageId": "sql"
    }
   },
   "outputs": [],
   "source": [
    "/* Verification of the number of entries by genre */\n",
    "SELECT  \n",
    "  COUNT(user_type),\n",
    "  gender,\n",
    "  EXTRACT(YEAR from start_time) as year\n",
    "FROM\n",
    "  `Cyclistic.cyclistic_trips_2013`\n",
    "WHERE\n",
    "  user_type = 'member'\n",
    "GROUP BY\n",
    "  gender, year"
   ]
  },
  {
   "attachments": {},
   "cell_type": "markdown",
   "metadata": {},
   "source": [
    "**<font size=3><font color=\"8bb761\">5.2.3</font> Birth year </font>** <a class=\"anchor\" id=\"birth_year\"></a>\n",
    "<p align=center> \n",
    "  <img align=center src=\"https://github.com/Rhappy/Cyclistic/blob/main/imgs_en/2.%20Number%20of%20users%20by%20birthyear%20over%20the%20years.png?raw=true\" alt=\"birth_year\">\n",
    "</p>"
   ]
  },
  {
   "attachments": {},
   "cell_type": "markdown",
   "metadata": {},
   "source": [
    "<p>Similar to gender, Cyclistic members also inform the year of birth at the time of registration, an item not required in the registration of casual users. According to the data, most members were born in the period from 1980 to 1995, reaching the peak of users born in 1989. Thus, at the time this analysis is carried out (2022), the age range of users is predominantly between 27 and 42 years old, with the majority of users being 33 years old.</p>"
   ]
  },
  {
   "cell_type": "code",
   "execution_count": null,
   "metadata": {
    "vscode": {
     "languageId": "sql"
    }
   },
   "outputs": [],
   "source": [
    "/* Pattern checking on user age*/\n",
    "SELECT  \n",
    "  COUNT(*) as count_birth_year,\n",
    "  birth_year,\n",
    "  EXTRACT(YEAR from CURRENT_DATE) as today,\n",
    "  EXTRACT(YEAR from start_time) as year,\n",
    "FROM\n",
    "  `Cyclistic.cyclistic_trips_2013`\n",
    "WHERE\n",
    "  birth_year IS NOT NULL \n",
    "GROUP BY\n",
    "  birth_year, year, today"
   ]
  },
  {
   "attachments": {},
   "cell_type": "markdown",
   "metadata": {},
   "source": [
    "**<font size=3><font color=\"8bb761\">5.2.4</font> Trip duration </font>** <a class=\"anchor\" id=\"trip_duration\"></a>\n",
    "<p align=center> \n",
    "  <img align=center src=\"https://github.com/Rhappy/Cyclistic/blob/main/imgs_en/3.%20Average%20duration%20of%20trips%20over%20the%20years.png?raw=true\" alt=\"trip_duration\">\n",
    "</p>"
   ]
  },
  {
   "attachments": {},
   "cell_type": "markdown",
   "metadata": {},
   "source": [
    "<p>The visualization above presents the average time of trips recorded over a period of 9 years, from 2013 to 2022. It is known that Cyclistic allows users to do runs up to 45 minutes with a fixed rate, with additional fees after this period. In this way, trips with a time of less than 45 minutes are justified for both types of users.</p>\n",
    "<p>Members take shorter trips, which have hovered between 8 and 12 minutes over the years, with an average total travel time of 9.4 minutes. Meanwhile, casual users have a higher average travel time, with a range of 19 minutes with an average minimum of 10 minutes and a maximum of 29 minutes. The average total time for casual trips is 18.4 minutes. </p>"
   ]
  },
  {
   "cell_type": "code",
   "execution_count": null,
   "metadata": {
    "vscode": {
     "languageId": "sql"
    }
   },
   "outputs": [],
   "source": [
    "/* Verification of the average travel time for each year */\n",
    "SELECT \n",
    "  TIME_DIFF(end_time, start_time, MINUTE) as trip_duration,\n",
    "  year,\n",
    "  user_type\n",
    "FROM \n",
    "  `Cyclistic.cyclistic_trips`\n",
    "ORDER BY\n",
    "  year ASC, trip_duration DESC;\n",
    "\n",
    "SELECT \n",
    "  CAST(AVG(trip_duration) as INT64) as average_trip_duration,\n",
    "  year, \n",
    "  user_type\n",
    "FROM \n",
    "  `Cyclistic.cyclistic_trips`\n",
    "WHERE\n",
    "  user_type IS NOT NULL\n",
    "GROUP BY \n",
    "  year, user_type\n",
    "ORDER BY\n",
    "  year ASC;"
   ]
  },
  {
   "attachments": {},
   "cell_type": "markdown",
   "metadata": {},
   "source": [
    "**<font size=3><font color=\"8bb761\">5.2.5</font> Most popular stations </font>** <a class=\"anchor\" id=\"station_pop\"></a>\n",
    "<p align=center> \n",
    "  <img align=center src=\"https://github.com/Rhappy/Cyclistic/blob/main/imgs_en/5.%20Most%20popular%20stations%20-%20casuals.png?raw=true\" alt=\"station_pop_casuals\">\n",
    "</p>\n",
    "<p align=center> \n",
    "  <img align=center src=\"https://github.com/Rhappy/Cyclistic/blob/main/imgs_en/4.%20Most%20popular%20stations%20-%20members.png?raw=true\" alt=\"station_pop_members\">\n",
    "</p>"
   ]
  },
  {
   "attachments": {},
   "cell_type": "markdown",
   "metadata": {},
   "source": [
    "<p>By looking at the maps above, you can identify a pattern and places most visited by members and casual users, counting start or end stations. In addition to the average time analysis done earlier, there is a possible correlation between user behaviors.</p>\n",
    "\n",
    "<p>Casual users have a higher average trip time, and when looking at the map of popular stations, it can be concluded that locations near parks and Lake Michigan are favorites. It is suggested that casual users use Cyclistic bicycles for routes related to entertainment and tourism.</p>\n",
    "\n",
    "<p>Members, on the other hand, have shorter runs, having a more linear average time and their preferred stations are in locations closer to the central region of the city, where more offices, markets and workstations are concentrated. It is suggested that members use more Cyclistic bicycles for routine tasks, which makes a subscription more plausible for this audience.</p>"
   ]
  },
  {
   "cell_type": "code",
   "execution_count": null,
   "metadata": {
    "vscode": {
     "languageId": "sql"
    }
   },
   "outputs": [],
   "source": [
    "/* Checking the popularity of stations among members and non-members */\n",
    "SELECT\n",
    "  a.station_name,\n",
    "  SUM(a.occurrence) as occurrence,\n",
    "  a.station_id,\n",
    "  b.latitude,\n",
    "  b.longitude,\n",
    "  a.user_type\n",
    "FROM \n",
    "  (\n",
    "  SELECT \n",
    "    c.start_station_name as station_name,\n",
    "    COUNT(c.start_station_name) as occurrence,\n",
    "    c.start_station_id as station_id,\n",
    "    c.user_type\n",
    "  FROM \n",
    "    `Cyclistic.cyclistic_trips_and_stations` as c\n",
    "  GROUP BY\n",
    "    station_name,station_id, user_type\n",
    "\n",
    "  UNION ALL\n",
    "\n",
    "  SELECT \n",
    "    d.end_station_name as station_name,\n",
    "    COUNT(d.end_station_name) as occurrence,\n",
    "    d.end_station_id as station_id,\n",
    "    d.user_type\n",
    "  FROM \n",
    "    `Cyclistic.cyclistic_trips_and_stations` as d\n",
    "  GROUP BY\n",
    "    station_name, station_id, user_type\n",
    "  ) as a\n",
    "\n",
    "  INNER JOIN `Cyclistic.cyclistic_stations` as b\n",
    "  ON a.station_id = b.id\n",
    "\n",
    "WHERE\n",
    "  a.user_type = 'member'\n",
    "GROUP BY\n",
    "  a.station_name, a.station_id, b.latitude, b.longitude, a.user_type\n",
    "ORDER BY\n",
    "  occurrence DESC\n",
    "LIMIT\n",
    "  20;\n"
   ]
  },
  {
   "attachments": {},
   "cell_type": "markdown",
   "metadata": {},
   "source": [
    "**<font size=3><font color=\"8bb761\">5.2.6</font> Popular months and hours </font>** <a class=\"anchor\" id=\"trip_time\"></a>\n",
    "<p align=center> \n",
    "  <img align=center src=\"https://github.com/Rhappy/Cyclistic/blob/main/imgs_en/7.%20Trips%20per%20month%20through%20the%20years%20by%20user%20type%20-%20Members.png?raw=true\" alt=\"trip_time_month_members\">\n",
    "</p>\n",
    "<p align=center> \n",
    "  <img align=center src=\"https://github.com/Rhappy/Cyclistic/blob/main/imgs_en/8.%20Trips%20per%20month%20through%20the%20years%20by%20user%20type%20-%20Casuals.png?raw=true\" alt=\"trip_time_month_casuals\">\n",
    "</p>"
   ]
  },
  {
   "attachments": {},
   "cell_type": "markdown",
   "metadata": {},
   "source": [
    "<p>Above, we have two tables representing the months of greatest use of Cyclistic bicycles by type of user. We have 6 months of intense use for both types, recorded year by year: from May to October. In May, there is a rise in temperature with the end of spring and, in June, summer begins. July represents the peak of heat and open sky times during the year, in the height of summer that lasts until the beginning of September. With the advance of autumn and the approach of winter, October is the month where temperatures decline again, with a significant drop in early November. </p>\n",
    "\n",
    "<p>Considering seasonality, it is possible to conclude the influence of the change of seasons on the use of the bicycle service, since the periods that precede and follow winter, as well as winter itself, can be very rigorous. </p>"
   ]
  },
  {
   "cell_type": "code",
   "execution_count": null,
   "metadata": {
    "vscode": {
     "languageId": "sql"
    }
   },
   "outputs": [],
   "source": [
    "/* Highest number of trips per month of the year between members and casuals */\n",
    "SELECT \n",
    "  COUNT(*) as quantity,\n",
    "  user_type,\n",
    "  month,\n",
    "  year\n",
    "FROM\n",
    "  (\n",
    "  SELECT\n",
    "    user_type,\n",
    "    CASE\n",
    "      WHEN month=01 THEN 'January'\n",
    "      WHEN month=02 THEN 'February'\n",
    "      WHEN month=03 THEN 'March'\n",
    "      WHEN month=04 THEN 'April'\n",
    "      WHEN month=05 THEN 'May'\n",
    "      WHEN month=06 THEN 'June'\n",
    "      WHEN month=07 THEN 'July'\n",
    "      WHEN month=08 THEN 'August'\n",
    "      WHEN month=09 THEN 'September'\n",
    "      WHEN month=10 THEN 'October'\n",
    "      WHEN month=11 THEN 'November'\n",
    "      WHEN month=12 THEN 'December'\n",
    "    END as month,\n",
    "    year\n",
    "  FROM\n",
    "    (\n",
    "    SELECT\n",
    "    user_type,\n",
    "    CAST(EXTRACT(MONTH from start_time) as INT64) as month,\n",
    "    CAST(EXTRACT(YEAR from start_time) as INT64) as year\n",
    "    FROM\n",
    "    `Cyclistic.cyclistic_trips_2013`\n",
    "\n",
    "    UNION ALL\n",
    "\n",
    "    SELECT\n",
    "      user_type,\n",
    "      CAST(EXTRACT(MONTH from start_time) as INT64) as month,\n",
    "      CAST(EXTRACT(YEAR from start_time) as INT64) as year\n",
    "      FROM\n",
    "      `Cyclistic.cyclistic_trips_2014`\n",
    "\n",
    "    UNION ALL\n",
    "\n",
    "    SELECT\n",
    "      user_type,\n",
    "      CAST(EXTRACT(MONTH from start_time) as INT64) as month,\n",
    "      CAST(EXTRACT(YEAR from start_time) as INT64) as year\n",
    "      FROM\n",
    "      `Cyclistic.cyclistic_trips_2015`\n",
    "\n",
    "    UNION ALL\n",
    "\n",
    "    SELECT\n",
    "      user_type,\n",
    "      CAST(EXTRACT(MONTH from start_time) as INT64) as month,\n",
    "      CAST(EXTRACT(YEAR from start_time) as INT64) as year\n",
    "      FROM\n",
    "      `Cyclistic.cyclistic_trips_2016`\n",
    "\n",
    "    UNION ALL\n",
    "\n",
    "    SELECT\n",
    "      user_type,\n",
    "      CAST(EXTRACT(MONTH from start_time) as INT64) as month,\n",
    "      CAST(EXTRACT(YEAR from start_time) as INT64) as year\n",
    "      FROM\n",
    "      `Cyclistic.cyclistic_trips_2017`\n",
    "\n",
    "    UNION ALL\n",
    "\n",
    "    SELECT\n",
    "      user_type,\n",
    "      CAST(EXTRACT(MONTH from start_time) as INT64) as month,\n",
    "      CAST(EXTRACT(YEAR from start_time) as INT64) as year\n",
    "      FROM\n",
    "      `Cyclistic.cyclistic_trips_2018`\n",
    "\n",
    "    UNION ALL\n",
    "\n",
    "    SELECT\n",
    "      user_type,\n",
    "      CAST(EXTRACT(MONTH from start_time) as INT64) as month,\n",
    "      CAST(EXTRACT(YEAR from start_time) as INT64) as year\n",
    "      FROM\n",
    "      `Cyclistic.cyclistic_trips_2019`\n",
    "\n",
    "    UNION ALL\n",
    "\n",
    "    SELECT\n",
    "      user_type,\n",
    "      CAST(EXTRACT(MONTH from start_time) as INT64) as month,\n",
    "      CAST(EXTRACT(YEAR from start_time) as INT64) as year\n",
    "      FROM\n",
    "      `Cyclistic.cyclistic_trips_2020`\n",
    "\n",
    "    UNION ALL\n",
    "\n",
    "    SELECT\n",
    "      user_type,\n",
    "      CAST(EXTRACT(MONTH from start_time) as INT64) as month,\n",
    "      CAST(EXTRACT(YEAR from start_time) as INT64) as year\n",
    "      FROM\n",
    "      `Cyclistic.cyclistic_trips_2021`\n",
    "\n",
    "    UNION ALL\n",
    "\n",
    "    SELECT\n",
    "      user_type,\n",
    "      CAST(EXTRACT(MONTH from start_time) as INT64) as month,\n",
    "      CAST(EXTRACT(YEAR from start_time) as INT64) as year\n",
    "      FROM\n",
    "      `Cyclistic.cyclistic_trips_2022`\n",
    "    ))\n",
    "WHERE\n",
    "  user_type = 'member'\n",
    "GROUP BY\n",
    "  month, year, user_type\n",
    "ORDER BY\n",
    "  year ASC;"
   ]
  },
  {
   "attachments": {},
   "cell_type": "markdown",
   "metadata": {},
   "source": [
    "<p align=center> \n",
    "  <img align=center src=\"https://github.com/Rhappy/Cyclistic/blob/main/imgs_en/9.%20Popular%20trip%20hours%20by%20user%20type.png?raw=true\" alt=\"trip_time_month_casuals\">\n",
    "</p>"
   ]
  },
  {
   "attachments": {},
   "cell_type": "markdown",
   "metadata": {},
   "source": [
    "<p>The graph above shows the difference between usage times for each type of user throughout the day.\n",
    "While casual users use the bicycle rental service more evenly throughout the day, slightly increasing from 10:00 am, peaking at 5:00 pm and slightly decreasing until 10:00 pm, members have two usage peaks: at 8:00 am and 6:00 pm. </p>\n",
    "\n",
    "<p>Such records evidence the assumption that casual users use the Cyclistic service for more varied activities throughout the day, possibly related to tourism and entertainment. </p>\n",
    "\n",
    "<p>The peaks in use by members, despite maintaining considerable activity between these periods, show that these members possibly use bicycles for round trips to and from their professional activities, similar to the peak hours of cars recorded by the traffic department of the City.</p>"
   ]
  },
  {
   "cell_type": "code",
   "execution_count": null,
   "metadata": {
    "vscode": {
     "languageId": "sql"
    }
   },
   "outputs": [],
   "source": [
    "/* Most popular times of use among members and casuals */\n",
    "SELECT\n",
    "  RANK() OVER (ORDER BY quantity DESC) as rank,\n",
    "  quantity,\n",
    "  user_type,\n",
    "  hour\n",
    "FROM\n",
    "  (\n",
    "  SELECT \n",
    "    COUNT(*) as quantity,\n",
    "    user_type,\n",
    "    hour\n",
    "  FROM\n",
    "    (\n",
    "    SELECT\n",
    "      user_type,\n",
    "      hour\n",
    "    FROM\n",
    "      (\n",
    "      SELECT\n",
    "      user_type,\n",
    "      CAST(EXTRACT(HOUR from start_time) as INT64) as hour\n",
    "      FROM\n",
    "      `Cyclistic.cyclistic_trips_2013`\n",
    "\n",
    "      UNION ALL\n",
    "\n",
    "      SELECT\n",
    "        user_type,\n",
    "        CAST(EXTRACT(HOUR from start_time) as INT64) as hour\n",
    "        FROM\n",
    "        `Cyclistic.cyclistic_trips_2014`\n",
    "\n",
    "      UNION ALL\n",
    "\n",
    "      SELECT\n",
    "        user_type,\n",
    "        CAST(EXTRACT(HOUR from start_time) as INT64) as hour\n",
    "        FROM\n",
    "        `Cyclistic.cyclistic_trips_2015`\n",
    "\n",
    "      UNION ALL\n",
    "\n",
    "      SELECT\n",
    "        user_type,\n",
    "        CAST(EXTRACT(HOUR from start_time) as INT64) as hour\n",
    "        FROM\n",
    "        `Cyclistic.cyclistic_trips_2016`\n",
    "\n",
    "      UNION ALL\n",
    "\n",
    "      SELECT\n",
    "        user_type,\n",
    "        CAST(EXTRACT(HOUR from start_time) as INT64) as hour\n",
    "        FROM\n",
    "        `Cyclistic.cyclistic_trips_2017`\n",
    "\n",
    "      UNION ALL\n",
    "\n",
    "      SELECT\n",
    "        user_type,\n",
    "        CAST(EXTRACT(HOUR from start_time) as INT64) as hour\n",
    "        FROM\n",
    "        `Cyclistic.cyclistic_trips_2018`\n",
    "\n",
    "      UNION ALL\n",
    "\n",
    "      SELECT\n",
    "        user_type,\n",
    "        CAST(EXTRACT(HOUR from start_time) as INT64) as hour\n",
    "        FROM\n",
    "        `Cyclistic.cyclistic_trips_2019`\n",
    "\n",
    "      UNION ALL\n",
    "\n",
    "      SELECT\n",
    "        user_type,\n",
    "        CAST(EXTRACT(HOUR from start_time) as INT64) as hour\n",
    "        FROM\n",
    "        `Cyclistic.cyclistic_trips_2020`\n",
    "\n",
    "      UNION ALL\n",
    "\n",
    "      SELECT\n",
    "        user_type,\n",
    "        CAST(EXTRACT(HOUR from start_time) as INT64) as hour\n",
    "        FROM\n",
    "        `Cyclistic.cyclistic_trips_2021`\n",
    "\n",
    "      UNION ALL\n",
    "\n",
    "      SELECT\n",
    "        user_type,\n",
    "        CAST(EXTRACT(HOUR from start_time) as INT64) as hour\n",
    "        FROM\n",
    "        `Cyclistic.cyclistic_trips_2022`\n",
    "    )\n",
    "      )\n",
    "      GROUP BY hour, user_type )\n",
    "WHERE\n",
    "  user_type = 'casual'\n",
    "GROUP BY\n",
    "  hour, user_type, quantity\n",
    "ORDER BY\n",
    "  rank ASC;"
   ]
  },
  {
   "attachments": {},
   "cell_type": "markdown",
   "metadata": {},
   "source": [
    "### <font color=\"8bb761\">6. Actions</font> <a class=\"anchor\" id=\"act\"></a>\n",
    "<p>As we performed the analysis, patterns between casual users and members became evident. First, it is appropriate to note that the data provided is not registration data, making it difficult to estimate the number of people who are members and the number who use the service casually. The databases only provide data on trips, making the first three items of the analysis potentially questionable, so that, for example, a greater amount of trips made by members does not necessarily mean that there are more members than casual users, as a single member can take hundreds of trips per year while hundreds of casual users can take one trip each.</p>\n",
    "\n",
    "<p>Taking these questions into account, the analyzes of items 5.2.4 to 5.2.6 are fully relevant, where we observe patterns of trips filtered by type of user. </p>\n",
    "\n",
    "<p>The first suggestion for action to enable the increase in subscription members would be to invest in a greater diversity of plans. Currently, there is only one type of annual plan (Cyclistic members) while casual users choose between a single trip or a day pass. Taking into account that many casual users use the service for outings, a valid possibility would be to create plans that include more than one person per subscription and launch plans in shorter periods, of 1 month and 3 months. </p>\n",
    "\n",
    "<p>Another interesting approach would be to provide seasonal promotional situations, bearing in mind that there are periods of greater use in the year, taking advantage of the warm climate to encourage the use of bicycles for outdoor activities. For example, a promotion can be created in July with special conditions such as longer usage time without paying an additional fee, or creating a partnership that grants discounts on products such as soft drinks and ice cream, which are very popular at this time of year.</p>\n",
    "\n",
    "<p>There is also the possibility of recording routes taken by the person in his personal account. There is a tendency for applications related to physical health that record routes via GPS where the user can share the route, counting the distance and the time the route was taken. Such an action could bring a greater adherence of users who are looking for a way to exercise together with a tool for monitoring and sharing on social networks according to the user's initiative. Taking advantage of the premise of health and well-being, it is also possible to use promotional plans to attract more users at other times and an advertising campaign that suggests the benefits of introducing physical activities on the bicycle in everyday life, encouraging use in routine tasks such as commuting to and from work and taking short trips throughout the day.</p> \n",
    "\n",
    "<p>It is estimated that a considerable portion of casual users is formed by tourists in view of popular stations in tourist spots. Due to the transient nature of this category, there is not a good predictability to make them members of the bicycle rental service. However, one way to attract more public attention would be to suggest popular routes aimed at historic and tourist areas of the city of Chicago, possibly with itineraries to be performed divided into a few hours based on the departure location. So you can turn a casual bike ride into an experience to be had when visiting Chicago. </p>"
   ]
  },
  {
   "attachments": {},
   "cell_type": "markdown",
   "metadata": {},
   "source": [
    "### <font color=\"8bb761\">7. Conclusion</font> <a class=\"anchor\" id=\"conclusion\"></a>\n",
    "<p>The service is offered through a partnership between a company that performs the maintenance and replacement of bicycles, as well as the development and maintenance of the application, with the City of Chicago, Illinois. The data provided by this partnership suggest different behavioral patterns between casual users and members, so that the search for user loyalty may not seem simple.</p>\n",
    "\n",
    "<p>However, the existence of this partnership can count on constant engagement by the government in promoting topics such as health, well-being, entertainment and the environment. Marketing actions in conjunction with the creation of additional plans, seasonal promotions, registration and ride sharing system, and tour routes can both increase Chicago's permanent citizen base and membership share and encourage greater use of casual users of passing through the city.</p>"
   ]
  },
  {
   "attachments": {},
   "cell_type": "markdown",
   "metadata": {},
   "source": [
    "### <font color=\"8bb761\">8. Complementary Bibliography</font> <a class=\"anchor\" id=\"bibliography\"></a>\n",
    " - <a href=\"https://www.chicago.gov/city/en/sites/covid-19/home/health-orders.html\">COVID-19 Orders - Chicago.gov</a> - Updates related to government recommendations regarding the COVID-19 pandemic. Used to contextualize the analysis of item 5.2.1.\n",
    "\n",
    " - <a href=\"https://www.weather.gov/lot/Annual_Temperature_Rankings_Chicago\">National Weather Service</a> - National Oceanic and Atmospheric Administration. It has the temperature records used to contextualize the analysis of item 5.2.6.\n",
    "\n",
    " - <a href=\"https://www.chicago.gov/city/en/depts/cdot/provdrs/traffic_signals_andstreetlights/news/2020/january/city-officials-will-enforce-am-and-pm-rush-hour-restrictions-on-.html\">Chicago - Transportation</a> - Chicago City Portal citing peak times for automobiles on the streets. Used to contextualize the analysis of item 5.2.6."
   ]
  }
 ],
 "metadata": {
  "kernelspec": {
   "display_name": "Python 3.11.0 64-bit",
   "language": "python",
   "name": "python3"
  },
  "language_info": {
   "codemirror_mode": {
    "name": "ipython",
    "version": 3
   },
   "file_extension": ".py",
   "mimetype": "text/x-python",
   "name": "python",
   "nbconvert_exporter": "python",
   "pygments_lexer": "ipython3",
   "version": "3.11.0 (main, Oct 24 2022, 18:26:48) [MSC v.1933 64 bit (AMD64)]"
  },
  "orig_nbformat": 4,
  "vscode": {
   "interpreter": {
    "hash": "e788497cb3569157be8e656aed1f4beb46e0ad7c9c943d25fb630c9e375e334a"
   }
  }
 },
 "nbformat": 4,
 "nbformat_minor": 2
}
